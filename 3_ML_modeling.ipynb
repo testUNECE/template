{
  "nbformat": 4,
  "nbformat_minor": 0,
  "metadata": {
    "kernelspec": {
      "name": "python3",
      "display_name": "Python 3"
    },
    "language_info": {
      "codemirror_mode": {
        "name": "ipython",
        "version": 3
      },
      "file_extension": ".py",
      "mimetype": "text/x-python",
      "name": "python",
      "nbconvert_exporter": "python",
      "pygments_lexer": "ipython3",
      "version": "3.6.1"
    },
    "colab": {
      "name": "3. ML modeling",
      "provenance": [],
      "collapsed_sections": [],
      "toc_visible": true,
      "include_colab_link": true
    }
  },
  "cells": [
    {
      "cell_type": "markdown",
      "metadata": {
        "id": "view-in-github",
        "colab_type": "text"
      },
      "source": [
        "<a href=\"https://colab.research.google.com/github/testUNECE/template/blob/master/3_ML_modeling.ipynb\" target=\"_parent\"><img src=\"https://colab.research.google.com/assets/colab-badge.svg\" alt=\"Open In Colab\"/></a>"
      ]
    },
    {
      "cell_type": "markdown",
      "metadata": {
        "id": "HcKIIlfqghtC",
        "colab_type": "text"
      },
      "source": [
        "# 3 Machine Learning Modeling"
      ]
    },
    {
      "cell_type": "markdown",
      "metadata": {
        "id": "jQsuaEoiqt2E",
        "colab_type": "text"
      },
      "source": [
        "## 3.1 Split to training set and test set\n",
        "---\n",
        "In machine learning, a common task is to study and construct algorithms that can learn from and make predictions on data. \n",
        "\n",
        "The model is initially fit on a training dataset, that is a set of samples used to fit the parameters of the model. \n",
        "\n",
        "An algorithm that best fits the training data may not fit the unseen real-wrold data. In order to assess the performance of the model and reduce its variance, test data is needed.\n",
        "\n",
        "The test dataset is independent of the training dataset but that follows the same probability distribution as the training dataset. \n",
        "\n",
        "80/20, which is referred to as the Pareto principle, is a rule of thumb for dividing a dataset into training and test data."
      ]
    },
    {
      "cell_type": "markdown",
      "metadata": {
        "id": "kczlVF3Zi5-7",
        "colab_type": "text"
      },
      "source": [
        "##3.2 Implement Machine Learning Models\n",
        "\n",
        "---\n",
        "\n",
        "\n",
        "\n",
        "There are six machine learning models adopted to train the data: Multinomial Naive Bayes, Support Vector Machine (linear svc), Logistic Regression, Random Forest, XGBoost, and Deep Neural Network.   \n",
        "\n",
        "We will train models on the training set. Within each training process, we will adopt grid search to find optimal hyperparamters and calculate the model accuracies. Then, assesss the model performance on test data.\n",
        "\n",
        "Below is the terminology explanation of search method and accuracy measure adopted.\n",
        "\n",
        "<b>3.2.1 Tune Hyperparameters Using GridSearchCV</b>\n",
        "\n",
        "A hyperparameter is a parameter whose value is used to control the learning process. \n",
        "\n",
        "The same kind of machine learning model can require different sets of hyperparameters such as constants, weights, or learning rates to generlaize different data patterns. Hyperparameter tuning is to choose a set of optimal hyperparameters for a machine learning algorithm. \n",
        "\n",
        "In our case, grid search is used to perform hyperparameter tuning for each model. Compared with the random serach, grid search is an exhausted method which considers all combinations of values of parameters from predefined subsets. Grid search guarantees that the optimal parameters are selected from the subsets. The disadvantage is that its relatively high computational cost compared with random search.\n",
        "\n",
        "<b>3.2.2 Machine Learning Models</b>\n",
        "* <b>1) Multinomial Naive Bayes</b>\n",
        "Naive Bayes is a family of probabilistic classifiers, which calculates the probability of each category using Bayes theorem with strong independence assumptions between the features. It is the simplest model among other alternative text classification models. When dealing with text data, multinomial naive bayes is adopted.\n",
        "* <b>2) Linear Support Vector Machine</b>\n",
        "A support vector machine determines the best decision boundary between vectors that belong to a given group/category and vectors that do not belong to it. In our case, we adopted a linear classifier because the linear kernel is computationally cheap and works well for text classification problems.\n",
        "* <b>3) Logistic Regression</b>\n",
        "Logistic regression measures the relationship between the categorical dependent variable and one or more independent variables by estimating probabilities using a logistic function.Logistic regression can be seen as a special case of the generalized linear model and thus analogous to linear model. In natual language processing, logistic rgression is the baseline supervised machine learning algorithm for classification, and has a very close relationship with neural network.\n",
        "* <b>4) Random Forest</b>\n",
        "Random forest is an ensemble learning method for classification task. It is constructed by a multitude of decision trees and outputs the class that is the mode of the classes. Random forest corret for decision trees' overfitting issue using a technique of bootstrap aggregating.\n",
        "* <b>5) XGBoost</b>\n",
        "XGBoost stands for eXtreme Gradient Boosting and is an implementation of gradient boosting machines that pushes the limits of computing power for boosted models.Boosting models are another type of ensemble models part of tree based models. Boosting is a machine learning ensemble meta-algorithm for primarily reducing bias, and also variance in supervised learning, and a family of machine learning algorithms that convert weak learners to strong ones. Use tree based XGBoost model in this case.\n",
        "* <b>6) Neural Network</b>\n",
        "Deep learning is a class of machine learning algorithms that uses multiple layers to progressively extract higher level features from the raw input. Deep Neural Networks architectures are designed to learn through multiple connections of layers where every single layer only receives a connection from previous and provides connections only to the next layer in the hidden part. The input layer is embedding vectors. The output layer neurons equal to the number of classes for multi-class classification."
      ]
    },
    {
      "cell_type": "markdown",
      "metadata": {
        "id": "4EcsT5AaHTTN",
        "colab_type": "text"
      },
      "source": [
        "## 3.3 Accuracy measure\n",
        "\n",
        "---\n",
        "\n",
        "The classification_report shows a representation of the main classification metrics on a per-class basis. This gives a deeper intuition of the classifier behavior over global accuracy which can mask functional weaknesses in one class of a multiclass problem. The metrics are calculated by using true and false positives (TP, FP), true and false negatives (TN, FN). \n",
        "\n",
        "<table >\n",
        "<tbody>\n",
        "  <tr>\n",
        "    <td> </td>\n",
        "    <td> </td>\n",
        "    <td colspan = 2; align = 'center'> <b> True </b> </td>\n",
        "  </tr>\n",
        "  <tr>\n",
        "    <td> </td>\n",
        "    <td> </td>\n",
        "    <td> Positive </td>\n",
        "    <td> Negative </td>\n",
        "  </tr>\n",
        "  <tr>\n",
        "    <td rowspan = 2> <b> Predicted </b> </td>\n",
        "    <td> Positive </td>\n",
        "    <td> True Positive (TP) </td>\n",
        "    <td> False Positive (FP) </td>\n",
        "  </tr>\n",
        "  <tr>\n",
        "    <td> Negative </td>\n",
        "    <td> False Negative (FN) </td>\n",
        "    <td> True Negative (TN) </td>\n",
        "  </tr>\n",
        "  </tbody>\n",
        "  </table>\n",
        "\n",
        "    \n",
        "\n",
        "\n",
        "\n",
        "Precision: It is the ratio of the total number of correctly classified positive examples divided to the total number of predicted positive examples. High precision indicates an example labelled as positive is indeed positive. Precision = TP/(TP+FP)\n",
        "\n",
        "$ Precision = \\frac{TP}{TP+FP} $\n",
        "\n",
        "Recall: It is the ratio of the total number of correctly classified positive examples divide to the total number of positive examples. High Recall indicates the calss is correctly recognized. Recall = TP/ (TP+FN).\n",
        "\n",
        "$ Recall = \\frac{TP}{TP+FN} $\n",
        "\n",
        "F1 score: It is a weighted harmonic mean of precision and recall such that the best score is 1 and the worst is 0. \n",
        "\n",
        "Support: Support is the numbner of actual occurrences of the class in the dataset. "
      ]
    },
    {
      "cell_type": "markdown",
      "metadata": {
        "id": "0TZ561wBjIzy",
        "colab_type": "text"
      },
      "source": [
        "## 3.4 Working Example Using ECOICOP data\n",
        "\n",
        "---\n",
        "\n"
      ]
    },
    {
      "cell_type": "markdown",
      "metadata": {
        "id": "M6pDr7QKhUjk",
        "colab_type": "text"
      },
      "source": [
        "> Load Required Libraries and Packages \n",
        "\n",
        "\n",
        "Sklearn is a machine learning library which enables implementation of classification, regression and clustering algorithms, such as support vector machine, random forest, bayes, gradient boosting and so on.\n",
        "\n",
        "XGBoost is an open-source software library which provides a gradient boosting framework.\n",
        "\n",
        "Keras is an open-source neural-network library written in Python. \n",
        "      "
      ]
    },
    {
      "cell_type": "code",
      "metadata": {
        "id": "JCyzdgmIaop-",
        "colab_type": "code",
        "outputId": "65481483-8860-484c-9fa8-980cbd8309d1",
        "colab": {
          "base_uri": "https://localhost:8080/",
          "height": 100
        }
      },
      "source": [
        "# Upload files\n",
        "from google.colab import files \n",
        "import io\n",
        "# Import data\n",
        "import pandas as pd\n",
        "# Plot graphs \n",
        "import matplotlib.pyplot as plt\n",
        "# Create training and testing data\n",
        "from sklearn.model_selection import train_test_split, GridSearchCV\n",
        "# Natrual language processing\n",
        "from sklearn.feature_extraction.text import CountVectorizer, TfidfTransformer, TfidfVectorizer\n",
        "# Implement machine learning models\n",
        "from sklearn.pipeline import Pipeline\n",
        "from sklearn.naive_bayes import MultinomialNB \n",
        "from sklearn import svm\n",
        "from sklearn import linear_model\n",
        "import numpy as np\n",
        "from sklearn.ensemble import RandomForestClassifier\n",
        "import xgboost as xgb\n",
        "from keras.layers import  Dropout, Dense\n",
        "from keras.models import Sequential\n",
        "# Assess model performance\n",
        "from sklearn.metrics import classification_report, accuracy_score\n",
        "# Record the running time of training the model.\n",
        "import timeit"
      ],
      "execution_count": 0,
      "outputs": [
        {
          "output_type": "stream",
          "text": [
            "Using TensorFlow backend.\n"
          ],
          "name": "stderr"
        },
        {
          "output_type": "display_data",
          "data": {
            "text/html": [
              "<p style=\"color: red;\">\n",
              "The default version of TensorFlow in Colab will soon switch to TensorFlow 2.x.<br>\n",
              "We recommend you <a href=\"https://www.tensorflow.org/guide/migrate\" target=\"_blank\">upgrade</a> now \n",
              "or ensure your notebook will continue to use TensorFlow 1.x via the <code>%tensorflow_version 1.x</code> magic:\n",
              "<a href=\"https://colab.research.google.com/notebooks/tensorflow_version.ipynb\" target=\"_blank\">more info</a>.</p>\n"
            ],
            "text/plain": [
              "<IPython.core.display.HTML object>"
            ]
          },
          "metadata": {
            "tags": []
          }
        }
      ]
    },
    {
      "cell_type": "code",
      "metadata": {
        "id": "8nLZxNN1aoqC",
        "colab_type": "code",
        "colab": {}
      },
      "source": [
        "# Import excel file on github\n",
        "df = pd.read_excel('https://raw.githubusercontent.com/UNECE/ML_dataset/master/Stats%20Poland%20ECOICOP%20data.xlsx', sheet_name = 'Data')"
      ],
      "execution_count": 0,
      "outputs": []
    },
    {
      "cell_type": "code",
      "metadata": {
        "id": "FLDgwNxOaoqF",
        "colab_type": "code",
        "colab": {}
      },
      "source": [
        "# Prepare training data and test data\n",
        "x_train, x_test, y_train, y_test = train_test_split(df['Desc_E'], df['Code_E'], test_size=0.20, random_state=0)"
      ],
      "execution_count": 0,
      "outputs": []
    },
    {
      "cell_type": "markdown",
      "metadata": {
        "id": "5EGQ7DX3n_Vn",
        "colab_type": "text"
      },
      "source": [
        "> 1) Multinomial Naive Bayes"
      ]
    },
    {
      "cell_type": "code",
      "metadata": {
        "id": "RI-ruHMMIP6H",
        "colab_type": "code",
        "colab": {}
      },
      "source": [
        "# Build pipeline\n",
        "  # Perform NLP task: convert the data to vectors of numbers \n",
        "text_clf_nb = Pipeline([('vect', CountVectorizer()),\n",
        "                     ('tfidf', TfidfTransformer()),\n",
        "                     ('clf', MultinomialNB())])"
      ],
      "execution_count": 0,
      "outputs": []
    },
    {
      "cell_type": "code",
      "metadata": {
        "id": "WKA2JaqL7tJ2",
        "colab_type": "code",
        "colab": {}
      },
      "source": [
        "# Define a set of parameters\n",
        "tuned_parameters_nb = {\n",
        "    # The number of words in a sequence\n",
        "      # (1, 1) means only unigrams, (1, 2) means unigrams and bigrams, (2, 2) means only bigrams\n",
        "    'vect__ngram_range': [(1, 1), (1, 2), (2, 2)],\n",
        "    # A boolean, enable inverse-document-frequency reweighting\n",
        "    'tfidf__use_idf': (True, False),\n",
        "    # Each output row will have norm either l1: Sum of absolute values of vector elements is 1\n",
        "                                       # or l2: Sum of squares of vector elements is 1. \n",
        "    'tfidf__norm': ('l1', 'l2'),\n",
        "    # Additive smoothing parameter\n",
        "    'clf__alpha': [1, 0.5, 0.1, 0.05, 0.01],\n",
        "    # A boolean, whether to learn class prior probabilities or not. If false, a uniform prior will be used.\n",
        "    'clf__fit_prior': (True, False),\n",
        "}"
      ],
      "execution_count": 0,
      "outputs": []
    },
    {
      "cell_type": "code",
      "metadata": {
        "colab_type": "code",
        "id": "UjMYnnmhaxkQ",
        "colab": {}
      },
      "source": [
        "# Tune hyperparamters using grid search with 10 folds cross validations\n",
        "  # verbose: Controls the verbosity. The higher, the more messages.\n",
        "clf = GridSearchCV(text_clf_nb, tuned_parameters_nb, cv=10, verbose = 1)\n",
        "# Record the running time of training the model.\n",
        "start = timeit.default_timer()\n",
        "# Fit training data\n",
        "clf.fit(x_train, y_train)\n",
        "stop = timeit.default_timer()\n",
        "print('Training Time: ', stop - start)  "
      ],
      "execution_count": 0,
      "outputs": []
    },
    {
      "cell_type": "code",
      "metadata": {
        "id": "Gz40iMjWH-LM",
        "colab_type": "code",
        "outputId": "bc787d12-0084-4225-8637-d43bf385ba89",
        "colab": {
          "base_uri": "https://localhost:8080/",
          "height": 1000
        }
      },
      "source": [
        "# Assess the model\n",
        "print(classification_report(y_test, clf.predict(x_test), digits=4))"
      ],
      "execution_count": 0,
      "outputs": [
        {
          "output_type": "stream",
          "text": [
            "                                                                            precision    recall  f1-score   support\n",
            "\n",
            "                                              Artificial sugar substitutes     0.4286    0.6000    0.5000        10\n",
            "                                                        Beef and veal meat     1.0000    0.6923    0.8182        13\n",
            "                                                                     Bread     0.8475    0.9091    0.8772        55\n",
            "                                                         Breakfast cereals     0.9077    0.9516    0.9291        62\n",
            "                                                                    Butter     0.8667    0.9286    0.8966        14\n",
            "                                                           Cheese and curd     0.9802    0.9659    0.9730       205\n",
            "                                                                     Chips     0.8333    0.9091    0.8696        33\n",
            "                                                                 Chocolate     0.8101    0.9275    0.8649        69\n",
            "                                                Cocoa and chocolate powder     1.0000    0.7273    0.8421        11\n",
            "                                                                    Coffee     0.9608    1.0000    0.9800        98\n",
            "                                                             Confectionery     0.9630    0.8333    0.8935       156\n",
            "                                                     Dried fruits and nuts     0.9009    0.9615    0.9302       104\n",
            "                            Dried vegetables and other vegetable preserves     0.8857    0.8564    0.8708       181\n",
            "                                  Dried, smoked or salted seafood and fish     0.7500    0.8333    0.7895        18\n",
            "                                                   Flour and other cereals     0.8889    0.8421    0.8649        38\n",
            "                                                         Food for children     0.9167    0.9706    0.9429        68\n",
            "                                                        Fresh low-fat milk     0.5000    0.3333    0.4000        15\n",
            "                                                     Fresh or chilled fish     0.8571    0.8571    0.8571        14\n",
            "                                                   Fresh or chilled fruits     0.7059    0.6000    0.6486        20\n",
            "                                                  Fresh or chilled seafood     0.6667    0.4000    0.5000         5\n",
            "Fresh or chilled vegetables, other than potatoes or other tuber vegetables     0.9091    0.6667    0.7692        60\n",
            "                                                               Frozen fish     0.8571    0.6667    0.7500         9\n",
            "                                                              Frozen fruit     0.8333    0.6250    0.7143         8\n",
            "                                                            Frozen seafood     0.6667    1.0000    0.8000         6\n",
            "          Frozen vegetables, other than potatoes or other tuber vegetables     0.6667    0.6087    0.6364        23\n",
            "                                                Fruit and vegetable juices     0.9657    0.9610    0.9633       205\n",
            "                                                           Fruit preserves     0.7143    0.6667    0.6897        15\n",
            "                                                                 Ice cream     0.9286    1.0000    0.9630        52\n",
            "                                                Jams, marmalades and honey     0.8462    0.9362    0.8889        47\n",
            "                                        Margarine and other vegetable fats     0.9583    0.8519    0.9020        27\n",
            "                                                  Mineral or spring waters     0.9608    0.9423    0.9515        52\n",
            "                                                  Offal and offal products     0.7500    0.5455    0.6316        11\n",
            "                                                         Other animal fats     1.0000    1.0000    1.0000         5\n",
            "                                                     Other bakery products     0.8966    0.8426    0.8687       216\n",
            "                                                     Other cereal products     0.6000    0.6923    0.6429        13\n",
            "                                                      Other dairy products     0.9324    0.8846    0.9079        78\n",
            "                                                         Other edible oils     0.8571    0.8571    0.8571        14\n",
            "                                 Other food items not elsewhere classified     0.9000    0.9329    0.9162       164\n",
            "                                                                Other meat     1.0000    0.8000    0.8889         5\n",
            "                                                   Other meat preparations     0.7447    0.8333    0.7865        42\n",
            "                                    Other preparations of fish and seafood     0.8214    0.9020    0.8598       102\n",
            "               Other tuber vegetables and preparations of tuber vegetables     0.8889    0.8889    0.8889         9\n",
            "                                                  Pasta and pasta products     0.9306    0.9178    0.9241        73\n",
            "                              Pizza and other flour semi-finished products     0.9500    0.9048    0.9268        21\n",
            "                                                                 Pork meat     0.5385    0.6364    0.5833        11\n",
            "                                                              Poultry meat     0.7826    0.8182    0.8000        22\n",
            "                                                Powdered and powdered milk     0.8571    0.9231    0.8889        26\n",
            "                                                           Prepared dishes     0.7255    0.8222    0.7708        45\n",
            "                                                         Refreshing drinks     0.8987    0.9861    0.9404        72\n",
            "                                                                      Rice     1.0000    0.9706    0.9851        34\n",
            "                                           Salt, spices and culinary herbs     0.9379    0.9645    0.9510       141\n",
            "                                                            Sauces, spices     0.9281    0.9394    0.9337       165\n",
            "                                                                     Sugar     0.8947    1.0000    0.9444        17\n",
            "                                                                       Tea     0.9844    1.0000    0.9921       126\n",
            "                                                                Whole milk     0.1667    0.2500    0.2000         8\n",
            "                                                                   Yoghurt     0.9355    0.9775    0.9560        89\n",
            "                                                                      eggs     0.9286    0.9286    0.9286        14\n",
            "                                                                     meats     0.9620    0.8994    0.9297       169\n",
            "                                                                 olive oil     0.9474    1.0000    0.9730        18\n",
            "                                                                  potatoes     1.0000    0.8824    0.9375        17\n",
            "\n",
            "                                                                  accuracy                         0.9012      3420\n",
            "                                                                 macro avg     0.8456    0.8337    0.8348      3420\n",
            "                                                              weighted avg     0.9041    0.9012    0.9008      3420\n",
            "\n"
          ],
          "name": "stdout"
        }
      ]
    },
    {
      "cell_type": "code",
      "metadata": {
        "id": "jtlDeFy1aoqf",
        "colab_type": "code",
        "outputId": "8e53a091-d4b6-4e68-ba6b-1fd04050a2e1",
        "colab": {
          "base_uri": "https://localhost:8080/",
          "height": 35
        }
      },
      "source": [
        "# Get the set of optimal hyperparameters\n",
        "print(clf.best_params_)"
      ],
      "execution_count": 0,
      "outputs": [
        {
          "output_type": "stream",
          "text": [
            "{'clf__alpha': 0.01, 'clf__fit_prior': False, 'tfidf__norm': 'l1', 'tfidf__use_idf': False, 'vect__ngram_range': (1, 2)}\n"
          ],
          "name": "stdout"
        }
      ]
    },
    {
      "cell_type": "code",
      "metadata": {
        "id": "GRlCRQ-bicMH",
        "colab_type": "code",
        "outputId": "7042098c-b78c-47f8-dcb6-6b5b43c0b3a8",
        "colab": {
          "base_uri": "https://localhost:8080/",
          "height": 35
        }
      },
      "source": [
        "# accuracy_score calculates the percentage of predicted labels that match corrsesponding true labels\n",
        "accuracy_score(y_test, clf.predict(x_test))"
      ],
      "execution_count": 0,
      "outputs": [
        {
          "output_type": "execute_result",
          "data": {
            "text/plain": [
              "0.9011695906432748"
            ]
          },
          "metadata": {
            "tags": []
          },
          "execution_count": 36
        }
      ]
    },
    {
      "cell_type": "markdown",
      "metadata": {
        "id": "9DFaCY47oJno",
        "colab_type": "text"
      },
      "source": [
        "> 2) Linear Support Vector Machine "
      ]
    },
    {
      "cell_type": "code",
      "metadata": {
        "id": "EEFrumGhCFKB",
        "colab_type": "code",
        "colab": {}
      },
      "source": [
        "# Build pipeline\n",
        "  # Perform NLP task: convert the data to vectors of numbers \n",
        "text_clf_svm = Pipeline([('vect', CountVectorizer()),\n",
        "                     ('tfidf', TfidfTransformer()),\n",
        "                     ('clf',  svm.LinearSVC(random_state = 123))])"
      ],
      "execution_count": 0,
      "outputs": []
    },
    {
      "cell_type": "code",
      "metadata": {
        "id": "1yq_GBEr7yaG",
        "colab_type": "code",
        "colab": {}
      },
      "source": [
        "# Set a set of parameters\n",
        "tuned_parameters_svm = {\n",
        "    'vect__ngram_range': [(1, 1), (1, 2), (2, 2)],\n",
        "    'tfidf__use_idf': (True, False),\n",
        "    'tfidf__norm': ('l1', 'l2'),  \n",
        "    # dual: A boolean, (default=True). Select the algorithm to either solve the dual or primal optimization problem. \n",
        "      # Prefer dual=False when n_samples > n_features. \n",
        "    'clf__dual': (True, False),\n",
        "    # Regularization parameter. The strength of the regularization is inversely proportional to C.\n",
        "    'clf__C': [0.1, 1, 10], \n",
        "    # The maximum number of iterations to be run.\n",
        "    'clf__max_iter': [2500, 5000]\n",
        "    }"
      ],
      "execution_count": 0,
      "outputs": []
    },
    {
      "cell_type": "code",
      "metadata": {
        "colab_type": "code",
        "id": "i8vdF8ctiuNF",
        "outputId": "cd6ec6d8-25a5-4da3-f9a0-41f796537894",
        "colab": {
          "base_uri": "https://localhost:8080/",
          "height": 605
        }
      },
      "source": [
        "# Tune hyperparamters\n",
        "clf = GridSearchCV(text_clf_svm, tuned_parameters_svm, cv = 5, verbose=1)\n",
        "# Record the running time of training the model.\n",
        "start = timeit.default_timer()\n",
        "# Fit training data\n",
        "clf.fit(x_train, y_train)\n",
        "stop = timeit.default_timer()\n",
        "print('Training Time: ', stop - start) "
      ],
      "execution_count": 0,
      "outputs": [
        {
          "output_type": "stream",
          "text": [
            "Fitting 5 folds for each of 144 candidates, totalling 720 fits\n"
          ],
          "name": "stdout"
        },
        {
          "output_type": "stream",
          "text": [
            "[Parallel(n_jobs=1)]: Using backend SequentialBackend with 1 concurrent workers.\n",
            "[Parallel(n_jobs=1)]: Done 720 out of 720 | elapsed: 31.4min finished\n"
          ],
          "name": "stderr"
        },
        {
          "output_type": "execute_result",
          "data": {
            "text/plain": [
              "GridSearchCV(cv=5, error_score=nan,\n",
              "             estimator=Pipeline(memory=None,\n",
              "                                steps=[('vect',\n",
              "                                        CountVectorizer(analyzer='word',\n",
              "                                                        binary=False,\n",
              "                                                        decode_error='strict',\n",
              "                                                        dtype=<class 'numpy.int64'>,\n",
              "                                                        encoding='utf-8',\n",
              "                                                        input='content',\n",
              "                                                        lowercase=True,\n",
              "                                                        max_df=1.0,\n",
              "                                                        max_features=None,\n",
              "                                                        min_df=1,\n",
              "                                                        ngram_range=(1, 1),\n",
              "                                                        preprocessor=None,\n",
              "                                                        stop_words=None,\n",
              "                                                        strip_accents=None,\n",
              "                                                        token_pattern='(?u)...\n",
              "                                                  random_state=123, tol=0.0001,\n",
              "                                                  verbose=0))],\n",
              "                                verbose=False),\n",
              "             iid='deprecated', n_jobs=None,\n",
              "             param_grid={'clf__C': [0.1, 1, 10], 'clf__dual': (True, False),\n",
              "                         'clf__max_iter': [2500, 5000],\n",
              "                         'tfidf__norm': ('l1', 'l2'),\n",
              "                         'tfidf__use_idf': (True, False),\n",
              "                         'vect__ngram_range': [(1, 1), (1, 2), (2, 2)]},\n",
              "             pre_dispatch='2*n_jobs', refit=True, return_train_score=False,\n",
              "             scoring=None, verbose=1)"
            ]
          },
          "metadata": {
            "tags": []
          },
          "execution_count": 54
        }
      ]
    },
    {
      "cell_type": "code",
      "metadata": {
        "id": "4ykyOQGBKR-I",
        "colab_type": "code",
        "outputId": "86a25045-0d44-4b1c-dfbb-08a6ea0db71a",
        "colab": {
          "base_uri": "https://localhost:8080/",
          "height": 1000
        }
      },
      "source": [
        "# Assess the model\n",
        "print(classification_report(y_test, clf.predict(x_test), digits=4))"
      ],
      "execution_count": 0,
      "outputs": [
        {
          "output_type": "stream",
          "text": [
            "                                                                            precision    recall  f1-score   support\n",
            "\n",
            "                                              Artificial sugar substitutes     0.8750    0.7000    0.7778        10\n",
            "                                                        Beef and veal meat     0.9286    1.0000    0.9630        13\n",
            "                                                                     Bread     0.8475    0.9091    0.8772        55\n",
            "                                                         Breakfast cereals     1.0000    0.9516    0.9752        62\n",
            "                                                                    Butter     0.8125    0.9286    0.8667        14\n",
            "                                                           Cheese and curd     0.9665    0.9854    0.9758       205\n",
            "                                                                     Chips     0.9333    0.8485    0.8889        33\n",
            "                                                                 Chocolate     0.8630    0.9130    0.8873        69\n",
            "                                                Cocoa and chocolate powder     1.0000    0.9091    0.9524        11\n",
            "                                                                    Coffee     0.9510    0.9898    0.9700        98\n",
            "                                                             Confectionery     0.9241    0.8590    0.8904       156\n",
            "                                                     Dried fruits and nuts     0.9115    0.9904    0.9493       104\n",
            "                            Dried vegetables and other vegetable preserves     0.8698    0.9227    0.8954       181\n",
            "                                  Dried, smoked or salted seafood and fish     0.8421    0.8889    0.8649        18\n",
            "                                                   Flour and other cereals     0.9394    0.8158    0.8732        38\n",
            "                                                         Food for children     0.9565    0.9706    0.9635        68\n",
            "                                                        Fresh low-fat milk     0.3333    0.2000    0.2500        15\n",
            "                                                     Fresh or chilled fish     0.8000    0.8571    0.8276        14\n",
            "                                                   Fresh or chilled fruits     0.7222    0.6500    0.6842        20\n",
            "                                                  Fresh or chilled seafood     0.4000    0.4000    0.4000         5\n",
            "Fresh or chilled vegetables, other than potatoes or other tuber vegetables     0.9545    0.7000    0.8077        60\n",
            "                                                               Frozen fish     0.6667    0.4444    0.5333         9\n",
            "                                                              Frozen fruit     1.0000    0.3750    0.5455         8\n",
            "                                                            Frozen seafood     0.5000    1.0000    0.6667         6\n",
            "          Frozen vegetables, other than potatoes or other tuber vegetables     0.7368    0.6087    0.6667        23\n",
            "                                                Fruit and vegetable juices     0.9804    0.9756    0.9780       205\n",
            "                                                           Fruit preserves     0.7333    0.7333    0.7333        15\n",
            "                                                                 Ice cream     1.0000    0.9808    0.9903        52\n",
            "                                                Jams, marmalades and honey     0.9362    0.9362    0.9362        47\n",
            "                                        Margarine and other vegetable fats     0.9259    0.9259    0.9259        27\n",
            "                                                  Mineral or spring waters     0.9808    0.9808    0.9808        52\n",
            "                                                  Offal and offal products     0.8000    0.7273    0.7619        11\n",
            "                                                         Other animal fats     0.8333    1.0000    0.9091         5\n",
            "                                                     Other bakery products     0.8767    0.8889    0.8828       216\n",
            "                                                     Other cereal products     0.7778    0.5385    0.6364        13\n",
            "                                                      Other dairy products     0.9306    0.8590    0.8933        78\n",
            "                                                         Other edible oils     0.9286    0.9286    0.9286        14\n",
            "                                 Other food items not elsewhere classified     0.9176    0.9512    0.9341       164\n",
            "                                                                Other meat     1.0000    0.8000    0.8889         5\n",
            "                                                   Other meat preparations     0.8500    0.8095    0.8293        42\n",
            "                                    Other preparations of fish and seafood     0.8571    0.8824    0.8696       102\n",
            "               Other tuber vegetables and preparations of tuber vegetables     1.0000    0.8889    0.9412         9\n",
            "                                                  Pasta and pasta products     0.9722    0.9589    0.9655        73\n",
            "                              Pizza and other flour semi-finished products     0.9500    0.9048    0.9268        21\n",
            "                                                                 Pork meat     0.7778    0.6364    0.7000        11\n",
            "                                                              Poultry meat     0.7826    0.8182    0.8000        22\n",
            "                                                Powdered and powdered milk     0.8889    0.9231    0.9057        26\n",
            "                                                           Prepared dishes     0.7255    0.8222    0.7708        45\n",
            "                                                         Refreshing drinks     0.9577    0.9444    0.9510        72\n",
            "                                                                      Rice     1.0000    0.9706    0.9851        34\n",
            "                                           Salt, spices and culinary herbs     0.9375    0.9574    0.9474       141\n",
            "                                                            Sauces, spices     0.9461    0.9576    0.9518       165\n",
            "                                                                     Sugar     0.9444    1.0000    0.9714        17\n",
            "                                                                       Tea     0.9690    0.9921    0.9804       126\n",
            "                                                                Whole milk     0.0714    0.1250    0.0909         8\n",
            "                                                                   Yoghurt     0.9670    0.9888    0.9778        89\n",
            "                                                                      eggs     0.8750    1.0000    0.9333        14\n",
            "                                                                     meats     0.9512    0.9231    0.9369       169\n",
            "                                                                 olive oil     0.9474    1.0000    0.9730        18\n",
            "                                                                  potatoes     1.0000    1.0000    1.0000        17\n",
            "\n",
            "                                                                  accuracy                         0.9149      3420\n",
            "                                                                 macro avg     0.8621    0.8424    0.8457      3420\n",
            "                                                              weighted avg     0.9166    0.9149    0.9141      3420\n",
            "\n"
          ],
          "name": "stdout"
        }
      ]
    },
    {
      "cell_type": "code",
      "metadata": {
        "id": "gVMzSFiTaoq-",
        "colab_type": "code",
        "outputId": "cefd7a36-9f04-4c58-ec23-972be8560858",
        "colab": {
          "base_uri": "https://localhost:8080/",
          "height": 403
        }
      },
      "source": [
        "# Get the set of optimal hyperparameters\n",
        "print(clf.best_estimator_)"
      ],
      "execution_count": 0,
      "outputs": [
        {
          "output_type": "stream",
          "text": [
            "Pipeline(memory=None,\n",
            "         steps=[('vect',\n",
            "                 CountVectorizer(analyzer='word', binary=False,\n",
            "                                 decode_error='strict',\n",
            "                                 dtype=<class 'numpy.int64'>, encoding='utf-8',\n",
            "                                 input='content', lowercase=True, max_df=1.0,\n",
            "                                 max_features=None, min_df=1,\n",
            "                                 ngram_range=(1, 2), preprocessor=None,\n",
            "                                 stop_words=None, strip_accents=None,\n",
            "                                 token_pattern='(?u)\\\\b\\\\w\\\\w+\\\\b',\n",
            "                                 tokenizer=None, vocabulary=None)),\n",
            "                ('tfidf',\n",
            "                 TfidfTransformer(norm='l2', smooth_idf=True,\n",
            "                                  sublinear_tf=False, use_idf=True)),\n",
            "                ('clf',\n",
            "                 LinearSVC(C=1, class_weight=None, dual=True,\n",
            "                           fit_intercept=True, intercept_scaling=1,\n",
            "                           loss='squared_hinge', max_iter=2500,\n",
            "                           multi_class='ovr', penalty='l2', random_state=123,\n",
            "                           tol=0.0001, verbose=0))],\n",
            "         verbose=False)\n"
          ],
          "name": "stdout"
        }
      ]
    },
    {
      "cell_type": "code",
      "metadata": {
        "id": "3CloNAzbaoq4",
        "colab_type": "code",
        "outputId": "6d21e665-844e-4c5b-a3a2-9d77a658c78a",
        "colab": {
          "base_uri": "https://localhost:8080/",
          "height": 35
        }
      },
      "source": [
        "accuracy_score(y_test, clf.predict(x_test))"
      ],
      "execution_count": 0,
      "outputs": [
        {
          "output_type": "execute_result",
          "data": {
            "text/plain": [
              "0.9149122807017543"
            ]
          },
          "metadata": {
            "tags": []
          },
          "execution_count": 57
        }
      ]
    },
    {
      "cell_type": "markdown",
      "metadata": {
        "id": "ekpK-NkgoTIO",
        "colab_type": "text"
      },
      "source": [
        "> 3) Logistic Regression"
      ]
    },
    {
      "cell_type": "code",
      "metadata": {
        "id": "hJCqBG5uL9dm",
        "colab_type": "code",
        "colab": {}
      },
      "source": [
        "# Build pipeline\n",
        "  # Perform NLP task: convert the data to vectors of numbers \n",
        "text_clf_log = Pipeline([('vect', CountVectorizer()),\n",
        "                     ('tfidf', TfidfTransformer()),\n",
        "                     ('clf', linear_model.LogisticRegression())])"
      ],
      "execution_count": 0,
      "outputs": []
    },
    {
      "cell_type": "code",
      "metadata": {
        "id": "RzkiTkCp724Q",
        "colab_type": "code",
        "colab": {}
      },
      "source": [
        "# Define a set of parameters\n",
        "tuned_parameters_log = {\n",
        "    'vect__ngram_range': [(1, 1), (1, 2), (2, 2)],\n",
        "    'tfidf__use_idf': (True, False),\n",
        "    'tfidf__norm': ('l1', 'l2'),\n",
        "    'clf__C': [1, 2],\n",
        "    'clf__max_iter': [500, 1000]\n",
        "}"
      ],
      "execution_count": 0,
      "outputs": []
    },
    {
      "cell_type": "code",
      "metadata": {
        "id": "jXlKKB3Lq8iU",
        "colab_type": "code",
        "outputId": "889c4d42-f9c4-44a0-8381-00f846d23822",
        "colab": {
          "base_uri": "https://localhost:8080/",
          "height": 641
        }
      },
      "source": [
        "# Tune hyperparamters using grid search with 5 folds cross validations\n",
        "clf = GridSearchCV(text_clf_log, tuned_parameters_log, cv = 5, verbose = 1)\n",
        "# Record the running time of training the model.\n",
        "start = timeit.default_timer()\n",
        "# Fit training data\n",
        "clf.fit(x_train, y_train)\n",
        "stop = timeit.default_timer()\n",
        "print('Training Time: ', stop - start) "
      ],
      "execution_count": 0,
      "outputs": [
        {
          "output_type": "stream",
          "text": [
            "Fitting 5 folds for each of 48 candidates, totalling 240 fits\n"
          ],
          "name": "stdout"
        },
        {
          "output_type": "stream",
          "text": [
            "[Parallel(n_jobs=1)]: Using backend SequentialBackend with 1 concurrent workers.\n",
            "[Parallel(n_jobs=1)]: Done 240 out of 240 | elapsed: 127.1min finished\n"
          ],
          "name": "stderr"
        },
        {
          "output_type": "execute_result",
          "data": {
            "text/plain": [
              "GridSearchCV(cv=5, error_score=nan,\n",
              "             estimator=Pipeline(memory=None,\n",
              "                                steps=[('vect',\n",
              "                                        CountVectorizer(analyzer='word',\n",
              "                                                        binary=False,\n",
              "                                                        decode_error='strict',\n",
              "                                                        dtype=<class 'numpy.int64'>,\n",
              "                                                        encoding='utf-8',\n",
              "                                                        input='content',\n",
              "                                                        lowercase=True,\n",
              "                                                        max_df=1.0,\n",
              "                                                        max_features=None,\n",
              "                                                        min_df=1,\n",
              "                                                        ngram_range=(1, 1),\n",
              "                                                        preprocessor=None,\n",
              "                                                        stop_words=None,\n",
              "                                                        strip_accents=None,\n",
              "                                                        token_pattern='(?u)...\n",
              "                                                           random_state=None,\n",
              "                                                           solver='lbfgs',\n",
              "                                                           tol=0.0001,\n",
              "                                                           verbose=0,\n",
              "                                                           warm_start=False))],\n",
              "                                verbose=False),\n",
              "             iid='deprecated', n_jobs=None,\n",
              "             param_grid={'clf__C': [1, 2], 'clf__max_iter': [500, 1000],\n",
              "                         'tfidf__norm': ('l1', 'l2'),\n",
              "                         'tfidf__use_idf': (True, False),\n",
              "                         'vect__ngram_range': [(1, 1), (1, 2), (2, 2)]},\n",
              "             pre_dispatch='2*n_jobs', refit=True, return_train_score=False,\n",
              "             scoring=None, verbose=1)"
            ]
          },
          "metadata": {
            "tags": []
          },
          "execution_count": 10
        }
      ]
    },
    {
      "cell_type": "code",
      "metadata": {
        "id": "3hrGGD9nCHeE",
        "colab_type": "code",
        "outputId": "84979c49-55ec-425e-f101-85c3cfb9a221",
        "colab": {
          "base_uri": "https://localhost:8080/",
          "height": 1000
        }
      },
      "source": [
        "# Assess the model\n",
        "print(classification_report(y_test, clf.predict(x_test), digits=4))"
      ],
      "execution_count": 0,
      "outputs": [
        {
          "output_type": "stream",
          "text": [
            "                                                                            precision    recall  f1-score   support\n",
            "\n",
            "                                              Artificial sugar substitutes     0.8750    0.7000    0.7778        10\n",
            "                                                        Beef and veal meat     0.8462    0.8462    0.8462        13\n",
            "                                                                     Bread     0.8750    0.8909    0.8829        55\n",
            "                                                         Breakfast cereals     0.9219    0.9516    0.9365        62\n",
            "                                                                    Butter     0.7778    1.0000    0.8750        14\n",
            "                                                           Cheese and curd     0.9481    0.9805    0.9640       205\n",
            "                                                                     Chips     0.9000    0.8182    0.8571        33\n",
            "                                                                 Chocolate     0.8182    0.9130    0.8630        69\n",
            "                                                Cocoa and chocolate powder     0.9091    0.9091    0.9091        11\n",
            "                                                                    Coffee     0.9700    0.9898    0.9798        98\n",
            "                                                             Confectionery     0.9078    0.8205    0.8620       156\n",
            "                                                     Dried fruits and nuts     0.8850    0.9615    0.9217       104\n",
            "                            Dried vegetables and other vegetable preserves     0.8385    0.8895    0.8633       181\n",
            "                                  Dried, smoked or salted seafood and fish     0.8421    0.8889    0.8649        18\n",
            "                                                   Flour and other cereals     0.8333    0.7895    0.8108        38\n",
            "                                                         Food for children     0.9565    0.9706    0.9635        68\n",
            "                                                        Fresh low-fat milk     0.5000    0.2667    0.3478        15\n",
            "                                                     Fresh or chilled fish     0.6667    0.7143    0.6897        14\n",
            "                                                   Fresh or chilled fruits     0.6471    0.5500    0.5946        20\n",
            "                                                  Fresh or chilled seafood     0.4000    0.4000    0.4000         5\n",
            "Fresh or chilled vegetables, other than potatoes or other tuber vegetables     0.7667    0.7667    0.7667        60\n",
            "                                                               Frozen fish     0.6667    0.4444    0.5333         9\n",
            "                                                              Frozen fruit     1.0000    0.3750    0.5455         8\n",
            "                                                            Frozen seafood     0.6667    1.0000    0.8000         6\n",
            "          Frozen vegetables, other than potatoes or other tuber vegetables     0.6818    0.6522    0.6667        23\n",
            "                                                Fruit and vegetable juices     0.9853    0.9805    0.9829       205\n",
            "                                                           Fruit preserves     0.8000    0.8000    0.8000        15\n",
            "                                                                 Ice cream     1.0000    1.0000    1.0000        52\n",
            "                                                Jams, marmalades and honey     0.9130    0.8936    0.9032        47\n",
            "                                        Margarine and other vegetable fats     1.0000    0.9259    0.9615        27\n",
            "                                                  Mineral or spring waters     0.9808    0.9808    0.9808        52\n",
            "                                                  Offal and offal products     0.8000    0.7273    0.7619        11\n",
            "                                                         Other animal fats     0.8333    1.0000    0.9091         5\n",
            "                                                     Other bakery products     0.8971    0.8472    0.8714       216\n",
            "                                                     Other cereal products     0.7778    0.5385    0.6364        13\n",
            "                                                      Other dairy products     0.8846    0.8846    0.8846        78\n",
            "                                                         Other edible oils     0.9286    0.9286    0.9286        14\n",
            "                                 Other food items not elsewhere classified     0.9012    0.9451    0.9226       164\n",
            "                                                                Other meat     1.0000    0.8000    0.8889         5\n",
            "                                                   Other meat preparations     0.8684    0.7857    0.8250        42\n",
            "                                    Other preparations of fish and seafood     0.8713    0.8627    0.8670       102\n",
            "               Other tuber vegetables and preparations of tuber vegetables     1.0000    0.6667    0.8000         9\n",
            "                                                  Pasta and pasta products     0.9701    0.8904    0.9286        73\n",
            "                              Pizza and other flour semi-finished products     0.8947    0.8095    0.8500        21\n",
            "                                                                 Pork meat     0.7500    0.5455    0.6316        11\n",
            "                                                              Poultry meat     0.7308    0.8636    0.7917        22\n",
            "                                                Powdered and powdered milk     1.0000    0.9231    0.9600        26\n",
            "                                                           Prepared dishes     0.8261    0.8444    0.8352        45\n",
            "                                                         Refreshing drinks     0.9718    0.9583    0.9650        72\n",
            "                                                                      Rice     1.0000    0.9706    0.9851        34\n",
            "                                           Salt, spices and culinary herbs     0.9236    0.9433    0.9333       141\n",
            "                                                            Sauces, spices     0.9059    0.9333    0.9194       165\n",
            "                                                                     Sugar     0.7619    0.9412    0.8421        17\n",
            "                                                                       Tea     0.9690    0.9921    0.9804       126\n",
            "                                                                Whole milk     0.1250    0.2500    0.1667         8\n",
            "                                                                   Yoghurt     0.9457    0.9775    0.9613        89\n",
            "                                                                      eggs     1.0000    0.9286    0.9630        14\n",
            "                                                                     meats     0.9398    0.9231    0.9313       169\n",
            "                                                                 olive oil     0.9474    1.0000    0.9730        18\n",
            "                                                                  potatoes     1.0000    0.9412    0.9697        17\n",
            "\n",
            "                                                                  accuracy                         0.9020      3420\n",
            "                                                                 macro avg     0.8534    0.8282    0.8339      3420\n",
            "                                                              weighted avg     0.9038    0.9020    0.9013      3420\n",
            "\n"
          ],
          "name": "stdout"
        }
      ]
    },
    {
      "cell_type": "code",
      "metadata": {
        "id": "YJ_prODCaord",
        "colab_type": "code",
        "outputId": "c18d579d-e645-4dff-d268-1cfccea57b73",
        "colab": {
          "base_uri": "https://localhost:8080/",
          "height": 439
        }
      },
      "source": [
        "# Get the optimal hyperparameters\n",
        "print(clf.best_estimator_)"
      ],
      "execution_count": 0,
      "outputs": [
        {
          "output_type": "stream",
          "text": [
            "Pipeline(memory=None,\n",
            "         steps=[('vect',\n",
            "                 CountVectorizer(analyzer='word', binary=False,\n",
            "                                 decode_error='strict',\n",
            "                                 dtype=<class 'numpy.int64'>, encoding='utf-8',\n",
            "                                 input='content', lowercase=True, max_df=1.0,\n",
            "                                 max_features=None, min_df=1,\n",
            "                                 ngram_range=(1, 1), preprocessor=None,\n",
            "                                 stop_words=None, strip_accents=None,\n",
            "                                 token_pattern='(?u)\\\\b\\\\w\\\\w+\\\\b',\n",
            "                                 tokenizer=None, vocabulary=Non...\n",
            "                 RandomForestClassifier(bootstrap=False, ccp_alpha=0.0,\n",
            "                                        class_weight=None, criterion='gini',\n",
            "                                        max_depth=None, max_features='log2',\n",
            "                                        max_leaf_nodes=None, max_samples=None,\n",
            "                                        min_impurity_decrease=0.0,\n",
            "                                        min_impurity_split=None,\n",
            "                                        min_samples_leaf=1, min_samples_split=2,\n",
            "                                        min_weight_fraction_leaf=0.0,\n",
            "                                        n_estimators=200, n_jobs=None,\n",
            "                                        oob_score=False, random_state=None,\n",
            "                                        verbose=0, warm_start=False))],\n",
            "         verbose=False)\n"
          ],
          "name": "stdout"
        }
      ]
    },
    {
      "cell_type": "code",
      "metadata": {
        "id": "Dj7ka4wSk30u",
        "colab_type": "code",
        "outputId": "9fbd0ace-56e0-47ec-962e-b7e8b7ae4a10",
        "colab": {
          "base_uri": "https://localhost:8080/",
          "height": 35
        }
      },
      "source": [
        "accuracy_score(y_test, clf.predict(x_test))"
      ],
      "execution_count": 0,
      "outputs": [
        {
          "output_type": "execute_result",
          "data": {
            "text/plain": [
              "0.902046783625731"
            ]
          },
          "metadata": {
            "tags": []
          },
          "execution_count": 14
        }
      ]
    },
    {
      "cell_type": "markdown",
      "metadata": {
        "id": "qaGPDO4xoX43",
        "colab_type": "text"
      },
      "source": [
        "> 4) Random Forest"
      ]
    },
    {
      "cell_type": "code",
      "metadata": {
        "id": "jcOeA8nNaorv",
        "colab_type": "code",
        "colab": {}
      },
      "source": [
        "# Build pipeline\n",
        "  # Perform NLP task: convert the data to vectors of numbers \n",
        "text_clf_rf = Pipeline([('vect', CountVectorizer()),\n",
        "                     ('tfidf', TfidfTransformer()),\n",
        "                     ('clf', RandomForestClassifier())])"
      ],
      "execution_count": 0,
      "outputs": []
    },
    {
      "cell_type": "code",
      "metadata": {
        "id": "p_OgSw94DdLh",
        "colab_type": "code",
        "colab": {}
      },
      "source": [
        "# Set a set of parameters\n",
        "tuned_parameters_rf = {\n",
        "    # 'vect__ngram_range': [(1, 1), (1, 2), (2, 2)],\n",
        "    'tfidf__use_idf': (True, False),\n",
        "    'tfidf__norm': ('l1', 'l2'), \n",
        "    # The number of trees in the forest.\n",
        "    'clf__n_estimators': [100, 200],\n",
        "    # The number of features to consider when looking for the best split:\n",
        "    'clf__max_features': ('auto','log2'),\n",
        "    # Whether bootstrap samples are used when building trees. \n",
        "      # If False, the whole datset is used to build each tree.\n",
        "    'clf__bootstrap': (True, False)\n",
        "              }"
      ],
      "execution_count": 0,
      "outputs": []
    },
    {
      "cell_type": "code",
      "metadata": {
        "id": "sHcsWm9EHAHH",
        "colab_type": "code",
        "outputId": "14028c6c-0a06-4689-ff09-64f1849582c1",
        "colab": {
          "base_uri": "https://localhost:8080/",
          "height": 641
        }
      },
      "source": [
        "# Tune hyperparameters using 5 fold cross validation, \n",
        "clf= GridSearchCV(text_clf_rf, tuned_parameters_rf, cv=5, verbose=1)\n",
        "# Record the running time of training the model.\n",
        "start = timeit.default_timer()\n",
        "# Fit training data\n",
        "clf.fit(x_train, y_train)\n",
        "stop = timeit.default_timer()\n",
        "print('Training Time: ', stop - start) "
      ],
      "execution_count": 0,
      "outputs": [
        {
          "output_type": "stream",
          "text": [
            "Fitting 5 folds for each of 32 candidates, totalling 160 fits\n"
          ],
          "name": "stdout"
        },
        {
          "output_type": "stream",
          "text": [
            "[Parallel(n_jobs=1)]: Using backend SequentialBackend with 1 concurrent workers.\n",
            "[Parallel(n_jobs=1)]: Done 160 out of 160 | elapsed: 58.7min finished\n"
          ],
          "name": "stderr"
        },
        {
          "output_type": "execute_result",
          "data": {
            "text/plain": [
              "GridSearchCV(cv=5, error_score=nan,\n",
              "             estimator=Pipeline(memory=None,\n",
              "                                steps=[('vect',\n",
              "                                        CountVectorizer(analyzer='word',\n",
              "                                                        binary=False,\n",
              "                                                        decode_error='strict',\n",
              "                                                        dtype=<class 'numpy.int64'>,\n",
              "                                                        encoding='utf-8',\n",
              "                                                        input='content',\n",
              "                                                        lowercase=True,\n",
              "                                                        max_df=1.0,\n",
              "                                                        max_features=None,\n",
              "                                                        min_df=1,\n",
              "                                                        ngram_range=(1, 1),\n",
              "                                                        preprocessor=None,\n",
              "                                                        stop_words=None,\n",
              "                                                        strip_accents=None,\n",
              "                                                        token_pattern='(?u)...\n",
              "                                                               oob_score=False,\n",
              "                                                               random_state=None,\n",
              "                                                               verbose=0,\n",
              "                                                               warm_start=False))],\n",
              "                                verbose=False),\n",
              "             iid='deprecated', n_jobs=None,\n",
              "             param_grid={'clf__bootstrap': (True, False),\n",
              "                         'clf__max_features': ('auto', 'log2'),\n",
              "                         'clf__n_estimators': [100, 200],\n",
              "                         'tfidf__norm': ('l1', 'l2'),\n",
              "                         'tfidf__use_idf': (True, False)},\n",
              "             pre_dispatch='2*n_jobs', refit=True, return_train_score=False,\n",
              "             scoring=None, verbose=1)"
            ]
          },
          "metadata": {
            "tags": []
          },
          "execution_count": 17
        }
      ]
    },
    {
      "cell_type": "code",
      "metadata": {
        "id": "EESWJqBQK48p",
        "colab_type": "code",
        "outputId": "c55ab287-b235-48f4-c44f-91b7faff7171",
        "colab": {
          "base_uri": "https://localhost:8080/",
          "height": 1000
        }
      },
      "source": [
        "# Assess the model\n",
        "print(classification_report(y_test, clf.predict(x_test), digits=4))"
      ],
      "execution_count": 0,
      "outputs": [
        {
          "output_type": "stream",
          "text": [
            "                                                                            precision    recall  f1-score   support\n",
            "\n",
            "                                              Artificial sugar substitutes     1.0000    0.6000    0.7500        10\n",
            "                                                        Beef and veal meat     0.7857    0.8462    0.8148        13\n",
            "                                                                     Bread     0.8571    0.8727    0.8649        55\n",
            "                                                         Breakfast cereals     0.9365    0.9516    0.9440        62\n",
            "                                                                    Butter     0.7778    1.0000    0.8750        14\n",
            "                                                           Cheese and curd     0.9571    0.9805    0.9687       205\n",
            "                                                                     Chips     0.9032    0.8485    0.8750        33\n",
            "                                                                 Chocolate     0.8077    0.9130    0.8571        69\n",
            "                                                Cocoa and chocolate powder     1.0000    0.9091    0.9524        11\n",
            "                                                                    Coffee     0.9798    0.9898    0.9848        98\n",
            "                                                             Confectionery     0.9155    0.8333    0.8725       156\n",
            "                                                     Dried fruits and nuts     0.8929    0.9615    0.9259       104\n",
            "                            Dried vegetables and other vegetable preserves     0.8497    0.9061    0.8770       181\n",
            "                                  Dried, smoked or salted seafood and fish     0.8333    0.8333    0.8333        18\n",
            "                                                   Flour and other cereals     0.9091    0.7895    0.8451        38\n",
            "                                                         Food for children     0.9565    0.9706    0.9635        68\n",
            "                                                        Fresh low-fat milk     0.5714    0.2667    0.3636        15\n",
            "                                                     Fresh or chilled fish     0.6471    0.7857    0.7097        14\n",
            "                                                   Fresh or chilled fruits     0.6000    0.6000    0.6000        20\n",
            "                                                  Fresh or chilled seafood     0.5000    0.4000    0.4444         5\n",
            "Fresh or chilled vegetables, other than potatoes or other tuber vegetables     0.7742    0.8000    0.7869        60\n",
            "                                                               Frozen fish     0.6667    0.4444    0.5333         9\n",
            "                                                              Frozen fruit     1.0000    0.3750    0.5455         8\n",
            "                                                            Frozen seafood     0.7500    1.0000    0.8571         6\n",
            "          Frozen vegetables, other than potatoes or other tuber vegetables     0.7368    0.6087    0.6667        23\n",
            "                                                Fruit and vegetable juices     0.9803    0.9707    0.9755       205\n",
            "                                                           Fruit preserves     0.8000    0.8000    0.8000        15\n",
            "                                                                 Ice cream     1.0000    1.0000    1.0000        52\n",
            "                                                Jams, marmalades and honey     0.9333    0.8936    0.9130        47\n",
            "                                        Margarine and other vegetable fats     1.0000    0.9259    0.9615        27\n",
            "                                                  Mineral or spring waters     0.9804    0.9615    0.9709        52\n",
            "                                                  Offal and offal products     0.8000    0.7273    0.7619        11\n",
            "                                                         Other animal fats     0.8333    1.0000    0.9091         5\n",
            "                                                     Other bakery products     0.8889    0.8519    0.8700       216\n",
            "                                                     Other cereal products     0.6364    0.5385    0.5833        13\n",
            "                                                      Other dairy products     0.8800    0.8462    0.8627        78\n",
            "                                                         Other edible oils     0.9286    0.9286    0.9286        14\n",
            "                                 Other food items not elsewhere classified     0.9176    0.9512    0.9341       164\n",
            "                                                                Other meat     1.0000    0.8000    0.8889         5\n",
            "                                                   Other meat preparations     0.8333    0.8333    0.8333        42\n",
            "                                    Other preparations of fish and seafood     0.8515    0.8431    0.8473       102\n",
            "               Other tuber vegetables and preparations of tuber vegetables     1.0000    0.8889    0.9412         9\n",
            "                                                  Pasta and pasta products     0.9714    0.9315    0.9510        73\n",
            "                              Pizza and other flour semi-finished products     0.9474    0.8571    0.9000        21\n",
            "                                                                 Pork meat     0.7500    0.5455    0.6316        11\n",
            "                                                              Poultry meat     0.7308    0.8636    0.7917        22\n",
            "                                                Powdered and powdered milk     0.8889    0.9231    0.9057        26\n",
            "                                                           Prepared dishes     0.8409    0.8222    0.8315        45\n",
            "                                                         Refreshing drinks     0.9583    0.9583    0.9583        72\n",
            "                                                                      Rice     1.0000    0.9706    0.9851        34\n",
            "                                           Salt, spices and culinary herbs     0.9067    0.9645    0.9347       141\n",
            "                                                            Sauces, spices     0.9394    0.9394    0.9394       165\n",
            "                                                                     Sugar     0.8000    0.9412    0.8649        17\n",
            "                                                                       Tea     0.9690    0.9921    0.9804       126\n",
            "                                                                Whole milk     0.1250    0.2500    0.1667         8\n",
            "                                                                   Yoghurt     0.9670    0.9888    0.9778        89\n",
            "                                                                      eggs     0.9333    1.0000    0.9655        14\n",
            "                                                                     meats     0.9512    0.9231    0.9369       169\n",
            "                                                                 olive oil     0.9474    1.0000    0.9730        18\n",
            "                                                                  potatoes     1.0000    0.8824    0.9375        17\n",
            "\n",
            "                                                                  accuracy                         0.9056      3420\n",
            "                                                                 macro avg     0.8583    0.8333    0.8387      3420\n",
            "                                                              weighted avg     0.9075    0.9056    0.9049      3420\n",
            "\n"
          ],
          "name": "stdout"
        }
      ]
    },
    {
      "cell_type": "code",
      "metadata": {
        "id": "cEyWeEpAK9IC",
        "colab_type": "code",
        "outputId": "4e184f8c-0aba-48d7-ae2a-dad191c2e8d3",
        "colab": {
          "base_uri": "https://localhost:8080/",
          "height": 439
        }
      },
      "source": [
        "# Get the optimal hyperparameters\n",
        "print(clf.best_estimator_)"
      ],
      "execution_count": 0,
      "outputs": [
        {
          "output_type": "stream",
          "text": [
            "Pipeline(memory=None,\n",
            "         steps=[('vect',\n",
            "                 CountVectorizer(analyzer='word', binary=False,\n",
            "                                 decode_error='strict',\n",
            "                                 dtype=<class 'numpy.int64'>, encoding='utf-8',\n",
            "                                 input='content', lowercase=True, max_df=1.0,\n",
            "                                 max_features=None, min_df=1,\n",
            "                                 ngram_range=(1, 1), preprocessor=None,\n",
            "                                 stop_words=None, strip_accents=None,\n",
            "                                 token_pattern='(?u)\\\\b\\\\w\\\\w+\\\\b',\n",
            "                                 tokenizer=None, vocabulary=Non...\n",
            "                 RandomForestClassifier(bootstrap=False, ccp_alpha=0.0,\n",
            "                                        class_weight=None, criterion='gini',\n",
            "                                        max_depth=None, max_features='log2',\n",
            "                                        max_leaf_nodes=None, max_samples=None,\n",
            "                                        min_impurity_decrease=0.0,\n",
            "                                        min_impurity_split=None,\n",
            "                                        min_samples_leaf=1, min_samples_split=2,\n",
            "                                        min_weight_fraction_leaf=0.0,\n",
            "                                        n_estimators=200, n_jobs=None,\n",
            "                                        oob_score=False, random_state=None,\n",
            "                                        verbose=0, warm_start=False))],\n",
            "         verbose=False)\n"
          ],
          "name": "stdout"
        }
      ]
    },
    {
      "cell_type": "code",
      "metadata": {
        "id": "VQolijzzmOXS",
        "colab_type": "code",
        "colab": {}
      },
      "source": [
        "# accuracy_score calculates the percentage of predicted labels that match corrsesponding true labels\n",
        "accuracy_score(y_test, clf.predict(x_test))"
      ],
      "execution_count": 0,
      "outputs": []
    },
    {
      "cell_type": "markdown",
      "metadata": {
        "id": "odBY4C5loeSO",
        "colab_type": "text"
      },
      "source": [
        "> 5) XGBoost"
      ]
    },
    {
      "cell_type": "code",
      "metadata": {
        "id": "11iOP3HiEdSI",
        "colab_type": "code",
        "colab": {}
      },
      "source": [
        "# Build pipeline\n",
        "  # Perform NLP task: convert the data to vectors of numbers \n",
        "text_clf_xg = Pipeline([('vect', CountVectorizer()),\n",
        "                     ('tfidf', TfidfTransformer()),\n",
        "                     ('clf', xgb.XGBClassifier(objective = 'multi:softmax', n_class = 61))])"
      ],
      "execution_count": 0,
      "outputs": []
    },
    {
      "cell_type": "code",
      "metadata": {
        "id": "wIE8HDJVF8Eb",
        "colab_type": "code",
        "colab": {}
      },
      "source": [
        "# Define a set of parameters\n",
        "tuned_parameters_xg = {\n",
        "    # 'vect__ngram_range': [(1, 1), (1, 2), (2, 2)],\n",
        "    # 'tfidf__use_idf': (True, False),\n",
        "    # 'tfidf__norm': ('l1', 'l2'),\n",
        "    # Subsample ratio of the training instances.\n",
        "    'clf__subsample': [0.5, 1],\n",
        "    # Use single precision to build histograms. \n",
        "    'clf__single_precision_histogram': (True, False),\n",
        "    # Build histogram on GPU deterministically.\n",
        "    'clf__deterministic_histogram': (True, False)\n",
        "}"
      ],
      "execution_count": 0,
      "outputs": []
    },
    {
      "cell_type": "code",
      "metadata": {
        "id": "vxM1mEwLlsUC",
        "colab_type": "code",
        "outputId": "52b5b328-5f9c-422b-ce9f-f933c29502a7",
        "colab": {
          "base_uri": "https://localhost:8080/",
          "height": 641
        }
      },
      "source": [
        "# Tune hyperparamters using grid search with 5 folds cross validations\n",
        "clf = GridSearchCV(text_clf_xg, tuned_parameters_xg, cv = 5, verbose = 1)\n",
        "# Record the running time of training the model.\n",
        "start = timeit.default_timer()\n",
        "# Fit training data\n",
        "clf.fit(x_train, y_train)\n",
        "stop = timeit.default_timer()\n",
        "print('Training Time: ', stop - start) "
      ],
      "execution_count": 0,
      "outputs": [
        {
          "output_type": "stream",
          "text": [
            "Fitting 5 folds for each of 8 candidates, totalling 40 fits\n"
          ],
          "name": "stdout"
        },
        {
          "output_type": "stream",
          "text": [
            "[Parallel(n_jobs=1)]: Using backend SequentialBackend with 1 concurrent workers.\n",
            "[Parallel(n_jobs=1)]: Done  40 out of  40 | elapsed: 44.7min finished\n"
          ],
          "name": "stderr"
        },
        {
          "output_type": "execute_result",
          "data": {
            "text/plain": [
              "GridSearchCV(cv=5, error_score=nan,\n",
              "             estimator=Pipeline(memory=None,\n",
              "                                steps=[('vect',\n",
              "                                        CountVectorizer(analyzer='word',\n",
              "                                                        binary=False,\n",
              "                                                        decode_error='strict',\n",
              "                                                        dtype=<class 'numpy.int64'>,\n",
              "                                                        encoding='utf-8',\n",
              "                                                        input='content',\n",
              "                                                        lowercase=True,\n",
              "                                                        max_df=1.0,\n",
              "                                                        max_features=None,\n",
              "                                                        min_df=1,\n",
              "                                                        ngram_range=(1, 1),\n",
              "                                                        preprocessor=None,\n",
              "                                                        stop_words=None,\n",
              "                                                        strip_accents=None,\n",
              "                                                        token_pattern='(?u)...\n",
              "                                                      random_state=0,\n",
              "                                                      reg_alpha=0, reg_lambda=1,\n",
              "                                                      scale_pos_weight=1,\n",
              "                                                      seed=None, silent=None,\n",
              "                                                      subsample=1,\n",
              "                                                      verbosity=1))],\n",
              "                                verbose=False),\n",
              "             iid='deprecated', n_jobs=None,\n",
              "             param_grid={'clf__deterministic_histogram': (True, False),\n",
              "                         'clf__single_precision_histogram': (True, False),\n",
              "                         'clf__subsample': [0.5, 1]},\n",
              "             pre_dispatch='2*n_jobs', refit=True, return_train_score=False,\n",
              "             scoring=None, verbose=1)"
            ]
          },
          "metadata": {
            "tags": []
          },
          "execution_count": 36
        }
      ]
    },
    {
      "cell_type": "code",
      "metadata": {
        "id": "w5ephuOGl1vt",
        "colab_type": "code",
        "outputId": "7224d7b7-55aa-4011-d338-3c0852779335",
        "colab": {
          "base_uri": "https://localhost:8080/",
          "height": 1000
        }
      },
      "source": [
        "# Assess the model\n",
        "print(classification_report(y_test, clf.predict(x_test), digits=4))"
      ],
      "execution_count": 0,
      "outputs": [
        {
          "output_type": "stream",
          "text": [
            "                                                                            precision    recall  f1-score   support\n",
            "\n",
            "                                              Artificial sugar substitutes     0.8750    0.7000    0.7778        10\n",
            "                                                        Beef and veal meat     0.7692    0.7692    0.7692        13\n",
            "                                                                     Bread     0.8519    0.8364    0.8440        55\n",
            "                                                         Breakfast cereals     0.9298    0.8548    0.8908        62\n",
            "                                                                    Butter     0.6364    1.0000    0.7778        14\n",
            "                                                           Cheese and curd     0.9333    0.9561    0.9446       205\n",
            "                                                                     Chips     0.9032    0.8485    0.8750        33\n",
            "                                                                 Chocolate     0.7176    0.8841    0.7922        69\n",
            "                                                Cocoa and chocolate powder     0.7143    0.9091    0.8000        11\n",
            "                                                                    Coffee     0.9314    0.9694    0.9500        98\n",
            "                                                             Confectionery     0.8655    0.6603    0.7491       156\n",
            "                                                     Dried fruits and nuts     0.8958    0.8269    0.8600       104\n",
            "                            Dried vegetables and other vegetable preserves     0.4983    0.8343    0.6240       181\n",
            "                                  Dried, smoked or salted seafood and fish     0.6800    0.9444    0.7907        18\n",
            "                                                   Flour and other cereals     0.9000    0.7105    0.7941        38\n",
            "                                                         Food for children     0.9683    0.8971    0.9313        68\n",
            "                                                        Fresh low-fat milk     0.2857    0.2667    0.2759        15\n",
            "                                                     Fresh or chilled fish     0.6364    0.5000    0.5600        14\n",
            "                                                   Fresh or chilled fruits     0.5000    0.3500    0.4118        20\n",
            "                                                  Fresh or chilled seafood     0.0000    0.0000    0.0000         5\n",
            "Fresh or chilled vegetables, other than potatoes or other tuber vegetables     0.7222    0.4333    0.5417        60\n",
            "                                                               Frozen fish     1.0000    0.4444    0.6154         9\n",
            "                                                              Frozen fruit     0.0000    0.0000    0.0000         8\n",
            "                                                            Frozen seafood     0.5000    0.8333    0.6250         6\n",
            "          Frozen vegetables, other than potatoes or other tuber vegetables     0.6190    0.5652    0.5909        23\n",
            "                                                Fruit and vegetable juices     0.9507    0.9415    0.9461       205\n",
            "                                                           Fruit preserves     0.7692    0.6667    0.7143        15\n",
            "                                                                 Ice cream     1.0000    0.9808    0.9903        52\n",
            "                                                Jams, marmalades and honey     0.9070    0.8298    0.8667        47\n",
            "                                        Margarine and other vegetable fats     0.9231    0.8889    0.9057        27\n",
            "                                                  Mineral or spring waters     0.9444    0.9808    0.9623        52\n",
            "                                                  Offal and offal products     0.6250    0.4545    0.5263        11\n",
            "                                                         Other animal fats     0.8333    1.0000    0.9091         5\n",
            "                                                     Other bakery products     0.8177    0.7685    0.7924       216\n",
            "                                                     Other cereal products     0.5000    0.4615    0.4800        13\n",
            "                                                      Other dairy products     0.7619    0.6154    0.6809        78\n",
            "                                                         Other edible oils     0.9286    0.9286    0.9286        14\n",
            "                                 Other food items not elsewhere classified     0.8430    0.8841    0.8631       164\n",
            "                                                                Other meat     0.5000    0.2000    0.2857         5\n",
            "                                                   Other meat preparations     0.7297    0.6429    0.6835        42\n",
            "                                    Other preparations of fish and seafood     0.8316    0.7745    0.8020       102\n",
            "               Other tuber vegetables and preparations of tuber vegetables     1.0000    0.5556    0.7143         9\n",
            "                                                  Pasta and pasta products     0.8873    0.8630    0.8750        73\n",
            "                              Pizza and other flour semi-finished products     0.8095    0.8095    0.8095        21\n",
            "                                                                 Pork meat     0.4615    0.5455    0.5000        11\n",
            "                                                              Poultry meat     0.6250    0.6818    0.6522        22\n",
            "                                                Powdered and powdered milk     0.8333    0.9615    0.8929        26\n",
            "                                                           Prepared dishes     0.8378    0.6889    0.7561        45\n",
            "                                                         Refreshing drinks     0.8472    0.8472    0.8472        72\n",
            "                                                                      Rice     0.9429    0.9706    0.9565        34\n",
            "                                           Salt, spices and culinary herbs     0.9416    0.9149    0.9281       141\n",
            "                                                            Sauces, spices     0.9222    0.9333    0.9277       165\n",
            "                                                       Sheep and goat meat     0.0000    0.0000    0.0000         0\n",
            "                                                                     Sugar     0.8333    0.8824    0.8571        17\n",
            "                                                                       Tea     0.9597    0.9444    0.9520       126\n",
            "                                                                Whole milk     0.0714    0.1250    0.0909         8\n",
            "                                                                   Yoghurt     0.8776    0.9663    0.9198        89\n",
            "                                                                      eggs     0.9286    0.9286    0.9286        14\n",
            "                                                                     meats     0.9338    0.8343    0.8812       169\n",
            "                                                                 olive oil     0.9474    1.0000    0.9730        18\n",
            "                                                                  potatoes     0.8421    0.9412    0.8889        17\n",
            "\n",
            "                                                                  accuracy                         0.8310      3420\n",
            "                                                                 macro avg     0.7492    0.7280    0.7292      3420\n",
            "                                                              weighted avg     0.8439    0.8310    0.8316      3420\n",
            "\n"
          ],
          "name": "stdout"
        },
        {
          "output_type": "stream",
          "text": [
            "/usr/local/lib/python3.6/dist-packages/sklearn/metrics/_classification.py:1272: UndefinedMetricWarning: Recall and F-score are ill-defined and being set to 0.0 in labels with no true samples. Use `zero_division` parameter to control this behavior.\n",
            "  _warn_prf(average, modifier, msg_start, len(result))\n"
          ],
          "name": "stderr"
        }
      ]
    },
    {
      "cell_type": "code",
      "metadata": {
        "id": "f2QFEqs_l6Op",
        "colab_type": "code",
        "outputId": "e31cc5a9-e309-4182-a538-7be38b56ed5c",
        "colab": {
          "base_uri": "https://localhost:8080/",
          "height": 403
        }
      },
      "source": [
        "# Get the optimal hyperparameters\n",
        "print(clf.best_estimator_)"
      ],
      "execution_count": 0,
      "outputs": [
        {
          "output_type": "stream",
          "text": [
            "Pipeline(memory=None,\n",
            "         steps=[('vect',\n",
            "                 CountVectorizer(analyzer='word', binary=False,\n",
            "                                 decode_error='strict',\n",
            "                                 dtype=<class 'numpy.int64'>, encoding='utf-8',\n",
            "                                 input='content', lowercase=True, max_df=1.0,\n",
            "                                 max_features=None, min_df=1,\n",
            "                                 ngram_range=(1, 1), preprocessor=None,\n",
            "                                 stop_words=None, strip_accents=None,\n",
            "                                 token_pattern='(?u)\\\\b\\\\w\\\\w+\\\\b',\n",
            "                                 tokenizer=None, vocabulary=Non...\n",
            "                               colsample_bytree=1, deterministic_histogram=True,\n",
            "                               gamma=0, learning_rate=0.1, max_delta_step=0,\n",
            "                               max_depth=3, min_child_weight=1, missing=None,\n",
            "                               n_class=61, n_estimators=100, n_jobs=1,\n",
            "                               nthread=None, objective='multi:softprob',\n",
            "                               random_state=0, reg_alpha=0, reg_lambda=1,\n",
            "                               scale_pos_weight=1, seed=None, silent=None,\n",
            "                               single_precision_histogram=True, subsample=1,\n",
            "                               verbosity=1))],\n",
            "         verbose=False)\n"
          ],
          "name": "stdout"
        }
      ]
    },
    {
      "cell_type": "code",
      "metadata": {
        "id": "C1yxNSdYfnUd",
        "colab_type": "code",
        "outputId": "2474efac-b8ef-4fbb-a0a2-905aca414222",
        "colab": {
          "base_uri": "https://localhost:8080/",
          "height": 35
        }
      },
      "source": [
        "accuracy_score(y_test, clf.predict(x_test))"
      ],
      "execution_count": 0,
      "outputs": [
        {
          "output_type": "execute_result",
          "data": {
            "text/plain": [
              "0.8309941520467836"
            ]
          },
          "metadata": {
            "tags": []
          },
          "execution_count": 39
        }
      ]
    },
    {
      "cell_type": "markdown",
      "metadata": {
        "id": "3T6zICjEoivi",
        "colab_type": "text"
      },
      "source": [
        "> 6) Neural Network"
      ]
    },
    {
      "cell_type": "code",
      "metadata": {
        "id": "5SjRAhHLw128",
        "colab_type": "code",
        "colab": {}
      },
      "source": [
        "# Prepare training data and test data\n",
        "x_train, x_test, y_train, y_test = train_test_split(df['Desc_E'], df['Code_E'], test_size=0.20, random_state=0)\n",
        "# Set max_features = 3000 \n",
        "  # When only extract unigrams, the number of features in x_test = 3006 < the number of features in x_train = 5494\n",
        "vectorizer = TfidfVectorizer(max_features=3000)\n",
        "x_train_tfidf = vectorizer.fit_transform(x_train).toarray()\n",
        "x_test_tfidf = vectorizer.transform(x_test).toarray()"
      ],
      "execution_count": 0,
      "outputs": []
    },
    {
      "cell_type": "code",
      "metadata": {
        "id": "WL9tszwiZUoA",
        "colab_type": "code",
        "colab": {}
      },
      "source": [
        "# Build Deep Neural Network with one hidden layer\n",
        "model = Sequential()\n",
        "# Number of nodes.\n",
        "  # Randomly assigned.\n",
        "nodes = 500\n",
        "# Input shape.\n",
        "shape = x_train_tfidf.shape[1]\n",
        "# Number of classes.\n",
        "n_classes = 61\n",
        "# Dropout rate.\n",
        "dropout = 0.5\n",
        "model.add(Dense(nodes,input_dim=shape,activation='relu'))\n",
        "model.add(Dropout(dropout))\n",
        "model.add(Dense(nodes,input_dim=nodes,activation='relu'))\n",
        "model.add(Dropout(dropout))\n",
        "model.add(Dense(n_classes, activation='softmax'))\n",
        "model.compile(loss='sparse_categorical_crossentropy',\n",
        "              optimizer='adam',\n",
        "              metrics=['accuracy'])\n",
        "# Set early stopping monitor so the model stops training when it won't improve anymore \n",
        "  #  In this case, we consider the model stops when it cannot reduce mean squared error by 0.1% for accuracy.\n",
        "es = EarlyStopping(monitor='val_accuracy', mode='max', min_delta=0.1)"
      ],
      "execution_count": 0,
      "outputs": []
    },
    {
      "cell_type": "code",
      "metadata": {
        "id": "Nu8h2q4Ea7OA",
        "colab_type": "code",
        "outputId": "54f5b98f-31d0-45ac-e3b2-6470db10364f",
        "colab": {
          "base_uri": "https://localhost:8080/",
          "height": 478
        }
      },
      "source": [
        "# Record the running time of training the model.\n",
        "start = timeit.default_timer()\n",
        "# Fit training data\n",
        "model.fit(x_train_tfidf, y_train, \n",
        "          validation_data=(x_test_tfidf, y_test), \n",
        "          epochs=10, \n",
        "          batch_size=200, \n",
        "          verbose=1, \n",
        "          callbacks = [es])\n",
        "stop = timeit.default_timer()\n",
        "print('Training Time: ', stop - start) "
      ],
      "execution_count": 0,
      "outputs": [
        {
          "output_type": "stream",
          "text": [
            "Train on 13679 samples, validate on 3420 samples\n",
            "Epoch 1/10\n",
            "13679/13679 [==============================] - 5s 386us/step - loss: 3.3813 - acc: 0.2106 - val_loss: 2.2739 - val_acc: 0.6234\n",
            "Epoch 2/10\n",
            "  600/13679 [>.............................] - ETA: 3s - loss: 2.2605 - acc: 0.5817"
          ],
          "name": "stdout"
        },
        {
          "output_type": "stream",
          "text": [
            "/usr/local/lib/python3.6/dist-packages/keras/callbacks.py:842: RuntimeWarning: Early stopping conditioned on metric `val_accuracy` which is not available. Available metrics are: val_loss,val_acc,loss,acc\n",
            "  (self.monitor, ','.join(list(logs.keys()))), RuntimeWarning\n"
          ],
          "name": "stderr"
        },
        {
          "output_type": "stream",
          "text": [
            "13679/13679 [==============================] - 4s 318us/step - loss: 1.4910 - acc: 0.6931 - val_loss: 0.9119 - val_acc: 0.7947\n",
            "Epoch 3/10\n",
            "13679/13679 [==============================] - 4s 318us/step - loss: 0.7486 - acc: 0.8260 - val_loss: 0.5800 - val_acc: 0.8623\n",
            "Epoch 4/10\n",
            "13679/13679 [==============================] - 4s 319us/step - loss: 0.4771 - acc: 0.8844 - val_loss: 0.4579 - val_acc: 0.8822\n",
            "Epoch 5/10\n",
            "13679/13679 [==============================] - 4s 322us/step - loss: 0.3466 - acc: 0.9082 - val_loss: 0.4079 - val_acc: 0.8924\n",
            "Epoch 6/10\n",
            "13679/13679 [==============================] - 4s 318us/step - loss: 0.2767 - acc: 0.9246 - val_loss: 0.3821 - val_acc: 0.9009\n",
            "Epoch 7/10\n",
            "13679/13679 [==============================] - 4s 317us/step - loss: 0.2134 - acc: 0.9428 - val_loss: 0.3794 - val_acc: 0.9026\n",
            "Epoch 8/10\n",
            "13679/13679 [==============================] - 4s 318us/step - loss: 0.1823 - acc: 0.9473 - val_loss: 0.3768 - val_acc: 0.9061\n",
            "Epoch 9/10\n",
            "13679/13679 [==============================] - 4s 317us/step - loss: 0.1561 - acc: 0.9550 - val_loss: 0.3689 - val_acc: 0.9094\n",
            "Epoch 10/10\n",
            "13679/13679 [==============================] - 4s 315us/step - loss: 0.1354 - acc: 0.9615 - val_loss: 0.3801 - val_acc: 0.9088\n"
          ],
          "name": "stdout"
        },
        {
          "output_type": "execute_result",
          "data": {
            "text/plain": [
              "<keras.callbacks.History at 0x7fd6cba0b208>"
            ]
          },
          "metadata": {
            "tags": []
          },
          "execution_count": 89
        }
      ]
    },
    {
      "cell_type": "markdown",
      "metadata": {
        "id": "TuV74-P9rZF9",
        "colab_type": "text"
      },
      "source": [
        "## Reference\n",
        "\n",
        "[ref_INEGI] INEGI pilot study report \n",
        "\n",
        "Sklearn documentation:\n",
        "* https://scikit-learn.org/stable/modules/generated/sklearn.feature_extraction.text.TfidfTransformer.html\n",
        "\n",
        "* https://scikit-learn.org/stable/modules/generated/sklearn.feature_extraction.text.CountVectorizer.html\n",
        "\n",
        "* https://scikit-learn.org/stable/modules/generated/sklearn.naive_bayes.MultinomialNB.html \n",
        "\n",
        "* https://scikit-learn.org/stable/modules/generated/sklearn.svm.LinearSVC.html\n",
        "* https://scikit-learn.org/stable/modules/generated/sklearn.linear_model.LogisticRegression.html\n",
        "* https://scikit-learn.org/stable/modules/generated/sklearn.ensemble.RandomForestClassifier.html\n",
        "\n",
        "XGBoost Documentation:\n",
        "* https://xgboost.readthedocs.io/en/latest/parameter.html\n",
        "\n",
        "Keras Documentation:\n",
        "* https://keras.io/getting-started/sequential-model-guide/"
      ]
    }
  ]
}