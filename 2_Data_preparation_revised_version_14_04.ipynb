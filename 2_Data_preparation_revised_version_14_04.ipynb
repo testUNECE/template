{
  "nbformat": 4,
  "nbformat_minor": 0,
  "metadata": {
    "colab": {
      "name": "2. Data preparation_revised version_14.04.ipynb",
      "provenance": [],
      "collapsed_sections": [],
      "toc_visible": true,
      "include_colab_link": true
    },
    "kernelspec": {
      "name": "python3",
      "display_name": "Python 3"
    }
  },
  "cells": [
    {
      "cell_type": "markdown",
      "metadata": {
        "id": "view-in-github",
        "colab_type": "text"
      },
      "source": [
        "<a href=\"https://colab.research.google.com/github/testUNECE/template/blob/master/2_Data_preparation_revised_version_14_04.ipynb\" target=\"_parent\"><img src=\"https://colab.research.google.com/assets/colab-badge.svg\" alt=\"Open In Colab\"/></a>"
      ]
    },
    {
      "cell_type": "markdown",
      "metadata": {
        "id": "u8Q8YrAcn2aO",
        "colab_type": "text"
      },
      "source": [
        "# 2. Data preparation\n",
        "\n",
        "\n",
        "In coding and classification (C&C), raw data are text descriptions written in natural language and these text data should be converted into numbers as ML models expect input data to be in numeric format. \n",
        "\n",
        "One of popular approaches of converting text into numbers is called <b> Bag of Words</b>. Bag of Words approach first creates a \"bag\" from unqiue words that appear in the texts. Each text is then represented as a vector of numbers where each number represent how often corresponding word appears in the text. For example, imagine occupation descriptions provided by four survey respndents: \n",
        "\n",
        "*   Text A : \"I drive a taxi\" \n",
        "*   Text B : \"I am driving taxi.\"\n",
        "*   Text C : \"restaurant chef\"\n",
        "*   Text D : \"I cook at a resturant\"\n",
        "\n",
        "Bag of words from these four texts will contain 12 (unique) words as: [\"i\", \"drive\", \"a\", \"taxi\", \"am\", \"driving\", \"taxi.\", \"Professional\", \"chef\", \"cook\", \"at\", \"restaurant\"]. Using a simple binary <b>scoring method</b> where 1 represents occurence, 0 represents absence, each text can be converted to a 1 x 12 vector where each element corresponds to a word in the bag as:\n",
        "\n",
        "<table >\n",
        "<tbody>\n",
        "  <tr>\n",
        "    <td> </td> <td> \"I\"  </td> <td> \"drive\"  </td> <td> \"a\"  </td> <td> \"taxi\" </td> <td> \"am\"  </td> <td> \"driving\"  </td> <td> \"taxi.\" </td> <td> \"restaurant\" </td> <td> \"chef\"  </td> <td> \"cook\"  </td> <td> \"at\"  </td>\n",
        "  </tr>\n",
        "  <tr>\n",
        "    <td> Text A </td> <td> 1 </td> <td> 1  </td> <td> 1  </td> <td> 1  </td> <td> 0  </td> <td> 0 </td> <td> 0 <td> 0  </td> <td> 0 </td> <td> 0 <td> 0  </td>\n",
        "  <tr>\n",
        "    <td> Text B </td> <td> 1 </td> <td> 0  </td> <td> 0 </td> <td> 0  </td> <td> 1 </td> <td> 1 </td> <td> 1 <td> 0  </td> <td> 0 </td> <td> 0 <td> 0  </td> \n",
        "  <tr>\n",
        "    <td> Text C </td> <td> 0 </td> <td> 0  </td> <td> 0  </td> <td> 0  </td> <td> 0  </td> <td> 0 </td> <td> 0 <td> 1  </td> <td> 1 </td> <td> 0 <td> 0  </td> \n",
        "  <tr>\n",
        "    <td> Text D </td> <td> 1 </td> <td> 0  </td> <td> 1  </td> <td> 0  </td> <td> 0  </td> <td> 0 </td> <td> 0 <td> 1 </td> <td> 0 </td> <td> 1 <td> 1  </td> \n",
        "  </tr>\n",
        "</tbody>\n",
        "</table>"
      ]
    },
    {
      "cell_type": "markdown",
      "metadata": {
        "id": "9fQcbEiHHAW8",
        "colab_type": "text"
      },
      "source": [
        "## 2.1 Text preprocessing\n",
        "---\n",
        "<b>2.1.1 Tokenization</b>\n",
        "\n",
        "The above example shows a typical way of storing text data where each input is a sentence. In order to create vector space for a bag-of-words model, tokenization is invoked to break up a sentence into words called tokens or grams. For example:\n",
        "\n",
        "* Text A : \"I drive a taxi\" ----> [\"I\", \"drive\", \"a\", \"taxi\"]\n",
        "\n",
        "When considering two consecutive words as an element of the vocabulary set, the model is called bi-gram model. Model built on single word is called uni-gram model. For any n-gram model for which n is greater than or equal to 2, the context/order of words is taking into account. For example:\n",
        "\n",
        "* Text E: \"A belongs to B.\"\n",
        "* Text F: \"B belongs to A. \"\n",
        "\n",
        "After removing punctuation, a set of uni-grams is [\"A\",\"belongs\", \"to\", \"B\"]. Uni-gram model cannot distiguish the difference between these two sentences because the vector assigned to both of them are the same:\n",
        "\n",
        "<table >\n",
        "<tbody>\n",
        "  <tr>\n",
        "    <td> </td> <td> \"A\"  </td> <td> \"belongs\"  </td> <td> \"to\"  </td> <td> \"B\"  </td> \n",
        "  </tr>\n",
        "  <tr>\n",
        "    <td> Text E </td> <td> 1 </td> <td> 1  </td> <td> 1  </td> <td> 1  </td> \n",
        "  <tr>\n",
        "    <td> Text F </td> <td> 1 </td> <td> 1  </td> <td> 1 </td> <td> 1  </td> \n",
        "  </tr>\n",
        "</tbody>\n",
        "</table>\n",
        "\n",
        "A bi-gram solves this issue because it produces a two-words vocabulary set: [\"A belongs\", \"belongs to\", \"to B\", \"B belongs\", \"to A\"]. The vector represetnation of these two sentences are different:\n",
        "\n",
        "<table >\n",
        "<tbody>\n",
        "  <tr>\n",
        "    <td> </td> <td> \"A belongs\"  </td> <td> \"belongs to\"  </td> <td> \"to B\"  </td> <td> \"B belongs\"  </td> <td> \"to A\"  </td> \n",
        "  </tr>\n",
        "  <tr>\n",
        "    <td> Text E </td> <td> 1 </td> <td> 1  </td> <td> 1  </td> <td> 0  </td> <td> 0 </td>\n",
        "  <tr>\n",
        "    <td> Text F </td> <td> 0 </td> <td> 1  </td> <td> 0 </td> <td> 1  </td> <td> 1 </td>\n",
        "  </tr>\n",
        "</tbody>\n",
        "</table>\n",
        "\n",
        "<b>2.1.2 Normalization</b> \n",
        "\n",
        "Texts written by human often contain pieces of information that doesn't contribute much to classification. For example, punctuation as in \"taxi.\" can be removed so that machine does not consider it as different from \"taxi\" just due to punctuation. Similarly, \"restaurant\" is essentially the same as \"a restaurant\". \"an apple\" and \"six apples\" provides same information when classifying the category of food.\n",
        "\n",
        "Several text normalization methods can be applied to clean the data before creating bag-of-words model:\n",
        "\n",
        "* <b>Convert to lower case</b>: Most programming languagues (including python that is used in working example) are case-sensitive. A word \"taxi\" is differentiated from  \"Taxi\" even though they are essentially the same. When creating a bag of words , the . \n",
        "* <b>Stemming/lemmatization</b>: words can vary depending on quantity/subject/tense (e.g. \"apples\" is plural form of \"apple\", \"drove\" is past tense of \"drive\"). Both stemming and lemmatization attempt to reduce variation of words by keeping only the root form. While stemming cuts out the inflectional affix of words (e.g. \"drive\" is cut to \"driv\"). INEGI has developed their own dictionary with synonyms that can be used for lemmatization [ref_INEGI].\n",
        "* <b>Remove stop words</b>: Stop words is a set of word that so commonly appear that do not add value to distinguish one text from another (e.g. articles \"a\", \"an\", \"the\"). NLTK(Natural Language Toolkit) in python has a list of stopwords stored in 16 different languages. Documentation can be found here: https://github.com/mitmedialab/DataBasic/tree/master/nltk_data/corpora/stopwords\n",
        "\n",
        "<b>2.1.3 Noise Removal</b>\n",
        "\n",
        "Noise removal is a domain dependant or a task speficic cleaning process. Depending on the task assigned, the noise takes different forms. Raw data extracted from a website contains html tags, while data from a file/document/pdf usually has header and footer. \n",
        "\n",
        "Within a sentence, noise could be punctuation marks (e.g. comma, period point, question mark, exclamation mark), special characters, and numbers. \n",
        "\n",
        "<b>*Example*</b>\n",
        "\n",
        "Following table shows how Text A and Text B are simplified after all preprocessings are applied:\n",
        "<table >\n",
        "<tbody>\n",
        "  <tr>\n",
        "    <td> </td>\n",
        "    <td> Text A </td>\n",
        "    <td> Text B </td>\n",
        "  </tr> \n",
        "  <tr>\n",
        "    <td>  Original text  </td>\n",
        "    <td><b> I drive a taxi. </b></td>\n",
        "    <td><b> I am driving Taxi</b> </td>\n",
        "  </tr>\n",
        "  <tr>\n",
        "    <td>  After tokenization  </td>\n",
        "    <td> \"I\", \"drive\", \"a\", \"taxi\", \".\" </td>\n",
        "    <td> \"I\", \"am\", \"driving\", \"Taxi\" </td>\n",
        "  </tr>\n",
        "  <tr>\n",
        "    <td> After removing noise </td>\n",
        "    <td> \"I\", \"drive\", \"a\", \"taxi\" </td>\n",
        "    <td> \"I\", \"am\", \"driving\", \"Taxi\" </td>\n",
        "  </tr>\n",
        "  <tr>\n",
        "    <td> After converting to lower case </td>\n",
        "    <td> \"i\", \"drive\", \"a\", \"taxi\" </td>\n",
        "    <td> \"i\", \"am\", \"driving\", \"taxi\" </td>\n",
        "  </tr>\n",
        "  <tr>\n",
        "    <td> After stemming </td>\n",
        "    <td> \"i\", \"driv\", \"a\", \"taxi\" </td>\n",
        "    <td> \"i\", \"am\", \"driv\", \"taxi\" </td>\n",
        "  </tr>\n",
        "  <tr>\n",
        "    <td> After removing stop words </td>\n",
        "    <td> <b> \"driv\", \"taxi\"</b> </td>\n",
        "    <td> <b> \"driv\", \"taxi\"</b> </td>\n",
        "  </tr>\n",
        "  </tbody>\n",
        "  </table>\n",
        "\n",
        "<b>*Note*</b>\n",
        "\n",
        "The order of performing normalization and noise removal depends on the text data and the problem to be solved. Sometimes tokenization and normalization can happen at the same point.\n",
        "\n",
        "While it is common practice to at least converting to lower case and removing noise, and lemmatization and stemming occurs in practice, it is not mandatory to use all  preprocessing methods listed above. \n",
        "\n",
        "\n",
        "\n"
      ]
    },
    {
      "cell_type": "markdown",
      "metadata": {
        "id": "GU7WA0iFCd3R",
        "colab_type": "text"
      },
      "source": [
        "\n",
        "## 2.2 TF-IDF\n",
        "---\n",
        "When introducing bag-of-words model, we adopt a simple scoring method utilizing binary vector representation of occurence and absence. \n",
        "\n",
        "A more sophisticated model is built upon the frequency of the word, <b>term frequency</b>, in the document. Think about words that have no semantic value such as \"the\", \"an\" and other so-called stop words that occur frequently in most documents, these words should rank low. This is adjusted by <b>inverse document frequency</b> from which the rarer the word is, the lower the value is assigned. <b>TF-IDF</b>, term frequency-inverse document frequency, is a common metric resulting from multiplying these two scores together. \n",
        "\n",
        "In Python sklearn library, tfidf is calculated by either using *TfidfVectorizer()* or a combination of *CountVectorizer()* and *TfidfTransformer()*.\n",
        "\n",
        "<b>*Note*</b>\n",
        "\n",
        "In addition to word relevance in the document, *TfidfVectorizer()* module takes care of most of the text preprocessing steps, for instance, tokenization, stop words removal, lowercase conversion and the range of n for n-gram models.\n",
        "\n",
        "\n",
        "\n",
        "\n"
      ]
    },
    {
      "cell_type": "markdown",
      "metadata": {
        "id": "vumqk7tm6BEJ",
        "colab_type": "text"
      },
      "source": [
        "## Parking lot\n",
        "\n",
        "\n",
        "Note that in above example, few keywords associated with certain categories are easily identifiable, hence rule-based system such as \"if a text contains word X, classify the occupation as Y\" could also classfy texts. However, such identification of keywords require human intervention and when the size of categories becomes large (e.g. Standards Occupation has xxxx categories), it is very difficult to maintain the rule-based system because the keywords would have considerable overlap.\n",
        "\n",
        "\n",
        "\n",
        "data set - search for other programmes/departments in the organisation that use the same classification system. For example, occupation C&C occurs not only in LFS but also.. (reference to Canada case) \n",
        "\n",
        "\n",
        "https://www.kdnuggets.com/2017/12/general-approach-preprocessing-text-data.html"
      ]
    },
    {
      "cell_type": "markdown",
      "metadata": {
        "id": "TQVDp6Ca4qJ3",
        "colab_type": "text"
      },
      "source": [
        "## 2.3 Working example using ECOICOP data\n",
        "---\n",
        "ECOICOP refers to the European Classification of Individual Consumption according to Purpose which provides homogeneous categories of goods and is used for surveys such as Household Budget surveys (HBS), Price Statistics (HICP) and Purchasing Power Parities (PPP) [ref_ECOICOP_Eurostat]. \n",
        "\n",
        "Statistics Poland provides a dataset with 17,099 products web-scrapped from three online shops and coded with ECOICOP categories as open dataset [ref_ECOICOP_Poland]. The dataset contains data in Polish (original), English and French and is freely available in [ref_ECOICOP_dataset].\n",
        "\n",
        "For the purpose of demonstration, only English data is analyzed in this learning material."
      ]
    },
    {
      "cell_type": "markdown",
      "metadata": {
        "id": "SdVmAL8ij5M1",
        "colab_type": "text"
      },
      "source": [
        "> Python has numerous packages, here we load python libraries and packages.\n"
      ]
    },
    {
      "cell_type": "code",
      "metadata": {
        "id": "_Tm9aICMyyA_",
        "colab_type": "code",
        "colab": {}
      },
      "source": [
        "# Import data\n",
        "import pandas as pd\n",
        "# Python library for graphs\n",
        "import matplotlib.pyplot as plt\n",
        "# Python library for TF-IDF\n",
        "from sklearn.feature_extraction.text import TfidfVectorizer\n",
        "# Compute chi-squared stats between each non-negative feature and class\n",
        "from sklearn.feature_selection import chi2\n",
        "# Python library for scientific computing\n",
        "import numpy as np"
      ],
      "execution_count": 0,
      "outputs": []
    },
    {
      "cell_type": "markdown",
      "metadata": {
        "id": "QWIWVtjC3CPS",
        "colab_type": "text"
      },
      "source": [
        "> Dataset is saved under the name \"df\". "
      ]
    },
    {
      "cell_type": "code",
      "metadata": {
        "id": "NldJP8N42s8L",
        "colab_type": "code",
        "colab": {}
      },
      "source": [
        "# Import excel file on github\n",
        "df = pd.read_excel('https://raw.githubusercontent.com/UNECE/ML_dataset/master/Stats%20Poland%20ECOICOP%20data.xlsx', sheet_name = 'Data')"
      ],
      "execution_count": 0,
      "outputs": []
    },
    {
      "cell_type": "markdown",
      "metadata": {
        "id": "cyGPOC8LkZI-",
        "colab_type": "text"
      },
      "source": [
        "> Check the dimension (17099 rows and 6 columns) of the dataset."
      ]
    },
    {
      "cell_type": "code",
      "metadata": {
        "id": "xMSPzDIl2-AH",
        "colab_type": "code",
        "outputId": "087413ac-3149-4868-ebdd-c46c5311b94f",
        "colab": {
          "base_uri": "https://localhost:8080/",
          "height": 35
        }
      },
      "source": [
        "# Shows the dimension (row, column) of the dataset\n",
        "df.shape "
      ],
      "execution_count": 0,
      "outputs": [
        {
          "output_type": "execute_result",
          "data": {
            "text/plain": [
              "(17099, 6)"
            ]
          },
          "metadata": {
            "tags": []
          },
          "execution_count": 22
        }
      ]
    },
    {
      "cell_type": "markdown",
      "metadata": {
        "id": "ODjfOxJWD4i2",
        "colab_type": "text"
      },
      "source": [
        ">  Examine if the dataset is loaded correclty by checking few lines of dataset. 'Desc_E' is the product name in English, 'Code_E' is the category manually coded in English. For example, 'Peach Porridge' is categorized as 'Other dairy products', 'Potato salad Polish cuisine' is categorized as 'potatoes'."
      ]
    },
    {
      "cell_type": "code",
      "metadata": {
        "id": "14tMnXnP3S-w",
        "colab_type": "code",
        "outputId": "13251091-3e6f-4485-c2e5-6cf68f182a79",
        "colab": {
          "base_uri": "https://localhost:8080/",
          "height": 345
        }
      },
      "source": [
        "# Shows the first 5 rows of the dataset  \n",
        "df.head(5) "
      ],
      "execution_count": 0,
      "outputs": [
        {
          "output_type": "execute_result",
          "data": {
            "text/html": [
              "<div>\n",
              "<style scoped>\n",
              "    .dataframe tbody tr th:only-of-type {\n",
              "        vertical-align: middle;\n",
              "    }\n",
              "\n",
              "    .dataframe tbody tr th {\n",
              "        vertical-align: top;\n",
              "    }\n",
              "\n",
              "    .dataframe thead th {\n",
              "        text-align: right;\n",
              "    }\n",
              "</style>\n",
              "<table border=\"1\" class=\"dataframe\">\n",
              "  <thead>\n",
              "    <tr style=\"text-align: right;\">\n",
              "      <th></th>\n",
              "      <th>Desc_P</th>\n",
              "      <th>Code_P</th>\n",
              "      <th>Desc_E</th>\n",
              "      <th>Code_E</th>\n",
              "      <th>Desc_F</th>\n",
              "      <th>Code_F</th>\n",
              "    </tr>\n",
              "  </thead>\n",
              "  <tbody>\n",
              "    <tr>\n",
              "      <th>0</th>\n",
              "      <td>owsianka brzoskwiniowa</td>\n",
              "      <td>Pozostałe produkty mleczne</td>\n",
              "      <td>Peach Porridge</td>\n",
              "      <td>Other dairy products</td>\n",
              "      <td>Bouillie de pêche</td>\n",
              "      <td>Autres produits laitiers</td>\n",
              "    </tr>\n",
              "    <tr>\n",
              "      <th>1</th>\n",
              "      <td>Owsianka Truskawkowa Mlekovita</td>\n",
              "      <td>Pozostałe produkty mleczne</td>\n",
              "      <td>Mlekovita Strawberry Porridge</td>\n",
              "      <td>Other dairy products</td>\n",
              "      <td>Bouillie de fraises Mlekovita</td>\n",
              "      <td>Autres produits laitiers</td>\n",
              "    </tr>\n",
              "    <tr>\n",
              "      <th>2</th>\n",
              "      <td>Owsianka wiśniowa</td>\n",
              "      <td>Pozostałe produkty mleczne</td>\n",
              "      <td>Cherry Porridge</td>\n",
              "      <td>Other dairy products</td>\n",
              "      <td>Bouillie de cerise</td>\n",
              "      <td>Autres produits laitiers</td>\n",
              "    </tr>\n",
              "    <tr>\n",
              "      <th>3</th>\n",
              "      <td>Owsianka Truskawkowa Mlekovita</td>\n",
              "      <td>Pozostałe produkty mleczne</td>\n",
              "      <td>Mlekovita Strawberry Porridge</td>\n",
              "      <td>Other dairy products</td>\n",
              "      <td>Bouillie de fraises Mlekovita</td>\n",
              "      <td>Autres produits laitiers</td>\n",
              "    </tr>\n",
              "    <tr>\n",
              "      <th>4</th>\n",
              "      <td>sałatka z batatów</td>\n",
              "      <td>Pozostałe warzywa bulwiaste i przetwory z warz...</td>\n",
              "      <td>sweet potato salad</td>\n",
              "      <td>Other tuber vegetables and preparations of tub...</td>\n",
              "      <td>salade de patates douces</td>\n",
              "      <td>Autres légumes à légumes et préparations à bas...</td>\n",
              "    </tr>\n",
              "  </tbody>\n",
              "</table>\n",
              "</div>"
            ],
            "text/plain": [
              "                           Desc_P  ...                                             Code_F\n",
              "0          owsianka brzoskwiniowa  ...                           Autres produits laitiers\n",
              "1  Owsianka Truskawkowa Mlekovita  ...                           Autres produits laitiers\n",
              "2               Owsianka wiśniowa  ...                           Autres produits laitiers\n",
              "3  Owsianka Truskawkowa Mlekovita  ...                           Autres produits laitiers\n",
              "4               sałatka z batatów  ...  Autres légumes à légumes et préparations à bas...\n",
              "\n",
              "[5 rows x 6 columns]"
            ]
          },
          "metadata": {
            "tags": []
          },
          "execution_count": 23
        }
      ]
    },
    {
      "cell_type": "markdown",
      "metadata": {
        "id": "F4yq5oShk610",
        "colab_type": "text"
      },
      "source": [
        "> Check how many ECOICOP categories (61 different groups) are in the dataset."
      ]
    },
    {
      "cell_type": "code",
      "metadata": {
        "id": "lvQqJoXu3m1K",
        "colab_type": "code",
        "outputId": "bfed155d-914b-47d2-b0af-bd337c759ca6",
        "colab": {
          "base_uri": "https://localhost:8080/",
          "height": 35
        }
      },
      "source": [
        "# Get the number of different categories\n",
        "len(df['Code_E'].unique())"
      ],
      "execution_count": 0,
      "outputs": [
        {
          "output_type": "execute_result",
          "data": {
            "text/plain": [
              "61"
            ]
          },
          "metadata": {
            "tags": []
          },
          "execution_count": 24
        }
      ]
    },
    {
      "cell_type": "markdown",
      "metadata": {
        "id": "RPABDYRmmhKI",
        "colab_type": "text"
      },
      "source": [
        "> Create a bar chart to see how many records are under each category.\n"
      ]
    },
    {
      "cell_type": "code",
      "metadata": {
        "id": "M-NksZ05aD9e",
        "colab_type": "code",
        "outputId": "0516334e-70a9-4353-e7f0-8ca98caf610a",
        "colab": {
          "base_uri": "https://localhost:8080/",
          "height": 983
        }
      },
      "source": [
        "# Plot the dataset grouped by ECOICOP code\n",
        "fig = plt.figure(figsize = (15,10)) \n",
        "df.groupby('Code_E').Desc_E.count().sort_values().plot.bar(ylim = 0)\n",
        "plt.title('Food Labels')\n",
        "plt.show()"
      ],
      "execution_count": 0,
      "outputs": [
        {
          "output_type": "display_data",
          "data": {
            "image/png": "[encoded data removed]",
            "text/plain": [
              "<Figure size 1080x720 with 1 Axes>"
            ]
          },
          "metadata": {
            "tags": [],
            "needs_background": "light"
          }
        }
      ]
    },
    {
      "cell_type": "markdown",
      "metadata": {
        "id": "ebop9oZAKqC2",
        "colab_type": "text"
      },
      "source": [
        "> Remove Noise"
      ]
    },
    {
      "cell_type": "code",
      "metadata": {
        "colab_type": "code",
        "id": "mwoB8dKIY2Z-",
        "colab": {}
      },
      "source": [
        "# Remove numbers\n",
        "def remove_numbers(a):\n",
        "  return ''.join([i for i in a if not i.isdigit()])\n",
        "\n",
        "for i, row in df.iterrows():\n",
        "  row['Desc_E'] = remove_numbers(row['Desc_E'])"
      ],
      "execution_count": 0,
      "outputs": []
    },
    {
      "cell_type": "markdown",
      "metadata": {
        "id": "5jii4kEUlmyw",
        "colab_type": "text"
      },
      "source": [
        "> Create TF-IDF "
      ]
    },
    {
      "cell_type": "code",
      "metadata": {
        "id": "EPLtvX2WaP3r",
        "colab_type": "code",
        "outputId": "1fee59fa-65ea-4d42-92e5-dc19ce7c10f3",
        "colab": {
          "base_uri": "https://localhost:8080/",
          "height": 35
        }
      },
      "source": [
        "# Transform food description to tf-idf vector\n",
        "# ngram_range = (1,2) considers both uni-gram and bi-gram models\n",
        "tfidf_vect = TfidfVectorizer(ngram_range = (1,2))\n",
        "x_tfidf = tfidf_vect.fit_transform(df['Desc_E'])\n",
        "# Each description of food is represented by 36810 number of features.\n",
        "x_tfidf.shape"
      ],
      "execution_count": 0,
      "outputs": [
        {
          "output_type": "execute_result",
          "data": {
            "text/plain": [
              "(17099, 36810)"
            ]
          },
          "metadata": {
            "tags": []
          },
          "execution_count": 38
        }
      ]
    },
    {
      "cell_type": "markdown",
      "metadata": {
        "id": "RaHCorN2pWKx",
        "colab_type": "text"
      },
      "source": [
        "> Find terms that are most relevant for each food. "
      ]
    },
    {
      "cell_type": "code",
      "metadata": {
        "id": "IPEyFcibaUDr",
        "colab_type": "code",
        "outputId": "c5bee7ef-1285-413f-99f3-8999444fa572",
        "colab": {
          "base_uri": "https://localhost:8080/",
          "height": 1000
        }
      },
      "source": [
        "df['Class_E'] = df['Code_E'].factorize()[0]\n",
        "class_df = df[['Code_E', 'Class_E']].drop_duplicates().sort_values('Class_E')\n",
        "class_to_id = dict(class_df.values)\n",
        "id_to_class = dict(class_df[['Class_E', 'Code_E']].values)\n",
        "df.head()\n",
        "x = x_tfidf.toarray()\n",
        "y = df['Class_E']\n",
        "N = 2\n",
        "for Code_E, Class_E in sorted(class_to_id.items()):\n",
        "  x_chi2 = chi2(x, y == Class_E)\n",
        "  indices = np.argsort(x_chi2[0])\n",
        "  x_names = np.array(tfidf_vect.get_feature_names())[indices]\n",
        "  unigrams = [word for word in x_names if len(word.split(' ')) == 1]\n",
        "  bigrams = [word for word in x_names if len(word.split(' ')) == 2]\n",
        "  print(\"# '{}':\".format(Code_E))\n",
        "  print(\"  . Most correlated unigrams:\\n. {}\".format('\\n. '.join(unigrams[-N:])))\n",
        "  print(\"  . Most correlated bigrams:\\n. {}\".format('\\n. '.join(bigrams[-N:])))"
      ],
      "execution_count": 0,
      "outputs": [
        {
          "output_type": "stream",
          "text": [
            "# 'Artificial sugar substitutes':\n",
            "  . Most correlated unigrams:\n",
            ". tablets\n",
            ". sweetener\n",
            "  . Most correlated bigrams:\n",
            ". table sweetener\n",
            ". sweetener based\n",
            "# 'Beef and veal meat':\n",
            "  . Most correlated unigrams:\n",
            ". beef\n",
            ". steak\n",
            "  . Most correlated bigrams:\n",
            ". beef jerky\n",
            ". dried beef\n",
            "# 'Bread':\n",
            "  . Most correlated unigrams:\n",
            ". roll\n",
            ". bread\n",
            "  . Most correlated bigrams:\n",
            ". rye bread\n",
            ". bread with\n",
            "# 'Breakfast cereals':\n",
            "  . Most correlated unigrams:\n",
            ". muesli\n",
            ". flakes\n",
            "  . Most correlated bigrams:\n",
            ". breakfast cereal\n",
            ". corn flakes\n",
            "# 'Butter':\n",
            "  . Most correlated unigrams:\n",
            ". 82\n",
            ". butter\n",
            "  . Most correlated bigrams:\n",
            ". butter extra\n",
            ". extra butter\n",
            "# 'Cheese and curd':\n",
            "  . Most correlated unigrams:\n",
            ". cottage\n",
            ". cheese\n",
            "  . Most correlated bigrams:\n",
            ". cream cheese\n",
            ". cottage cheese\n",
            "# 'Chips':\n",
            "  . Most correlated unigrams:\n",
            ". lay\n",
            ". chips\n",
            "  . Most correlated bigrams:\n",
            ". lay 39\n",
            ". potato chips\n",
            "# 'Chocolate':\n",
            "  . Most correlated unigrams:\n",
            ". lindt\n",
            ". chocolate\n",
            "  . Most correlated bigrams:\n",
            ". chocolate with\n",
            ". milk chocolate\n",
            "# 'Cocoa and chocolate powder':\n",
            "  . Most correlated unigrams:\n",
            ". decomorreno\n",
            ". cocoa\n",
            "  . Most correlated bigrams:\n",
            ". decomorreno cocoa\n",
            ". natural cocoa\n",
            "# 'Coffee':\n",
            "  . Most correlated unigrams:\n",
            ". ground\n",
            ". coffee\n",
            "  . Most correlated bigrams:\n",
            ". ground coffee\n",
            ". coffee beans\n",
            "# 'Confectionery':\n",
            "  . Most correlated unigrams:\n",
            ". haribo\n",
            ". bar\n",
            "  . Most correlated bigrams:\n",
            ". chewing gum\n",
            ". jelly beans\n",
            "# 'Dried fruits and nuts':\n",
            "  . Most correlated unigrams:\n",
            ". shelled\n",
            ". kresto\n",
            "  . Most correlated bigrams:\n",
            ". dried apricots\n",
            ". pumpkin seeds\n",
            "# 'Dried vegetables and other vegetable preserves':\n",
            "  . Most correlated unigrams:\n",
            ". bonduelle\n",
            ". olives\n",
            "  . Most correlated bigrams:\n",
            ". vegetable salad\n",
            ". olives with\n",
            "# 'Dried, smoked or salted seafood and fish':\n",
            "  . Most correlated unigrams:\n",
            ". smoked\n",
            ". salmon\n",
            "  . Most correlated bigrams:\n",
            ". cold smoked\n",
            ". smoked salmon\n",
            "# 'Flour and other cereals':\n",
            "  . Most correlated unigrams:\n",
            ". buckwheat\n",
            ". flour\n",
            "  . Most correlated bigrams:\n",
            ". wheat flour\n",
            ". flour type\n",
            "# 'Food for children':\n",
            "  . Most correlated unigrams:\n",
            ". dinner\n",
            ". bobovita\n",
            "  . Most correlated bigrams:\n",
            ". porridge with\n",
            ". rice porridge\n",
            "# 'Fresh low-fat milk':\n",
            "  . Most correlated unigrams:\n",
            ". spotted\n",
            ". uht\n",
            "  . Most correlated bigrams:\n",
            ". uht milk\n",
            ". spotted milk\n",
            "# 'Fresh or chilled fish':\n",
            "  . Most correlated unigrams:\n",
            ". skin\n",
            ". gutted\n",
            "  . Most correlated bigrams:\n",
            ". salmon fillet\n",
            ". cod fillet\n",
            "# 'Fresh or chilled fruits':\n",
            "  . Most correlated unigrams:\n",
            ". basket\n",
            ". about\n",
            "  . Most correlated bigrams:\n",
            ". weight about\n",
            ". pcs kg\n",
            "# 'Fresh or chilled seafood':\n",
            "  . Most correlated unigrams:\n",
            ". oysters\n",
            ". approx\n",
            "  . Most correlated bigrams:\n",
            ". approx kg\n",
            ". dutch mussels\n",
            "# 'Fresh or chilled vegetables, other than potatoes or other tuber vegetables':\n",
            "  . Most correlated unigrams:\n",
            ". sprouts\n",
            ". lettuce\n",
            "  . Most correlated bigrams:\n",
            ". cherry tomatoes\n",
            ". in pot\n",
            "# 'Frozen fish':\n",
            "  . Most correlated unigrams:\n",
            ". pollock\n",
            ". frozen\n",
            "  . Most correlated bigrams:\n",
            ". skinless frozen\n",
            ". frozen fillet\n",
            "# 'Frozen fruit':\n",
            "  . Most correlated unigrams:\n",
            ". 2be\n",
            ". blackberries\n",
            "  . Most correlated bigrams:\n",
            ". frozen strawberries\n",
            ". forest berries\n",
            "# 'Frozen seafood':\n",
            "  . Most correlated unigrams:\n",
            ". frozen\n",
            ". shrimps\n",
            "  . Most correlated bigrams:\n",
            ". seafood mix\n",
            ". peeled with\n",
            "# 'Frozen vegetables, other than potatoes or other tuber vegetables':\n",
            "  . Most correlated unigrams:\n",
            ". 450\n",
            ". hortex\n",
            "  . Most correlated bigrams:\n",
            ". vegetables for\n",
            ". hortex vegetables\n",
            "# 'Fruit and vegetable juices':\n",
            "  . Most correlated unigrams:\n",
            ". apple\n",
            ". juice\n",
            "  . Most correlated bigrams:\n",
            ". apple juice\n",
            ". juice 100\n",
            "# 'Fruit preserves':\n",
            "  . Most correlated unigrams:\n",
            ". sandra\n",
            ". compote\n",
            "  . Most correlated bigrams:\n",
            ". light syrup\n",
            ". in syrup\n",
            "# 'Ice cream':\n",
            "  . Most correlated unigrams:\n",
            ". grycan\n",
            ". ice\n",
            "  . Most correlated bigrams:\n",
            ". cream with\n",
            ". ice cream\n",
            "# 'Jams, marmalades and honey':\n",
            "  . Most correlated unigrams:\n",
            ". honey\n",
            ". jam\n",
            "  . Most correlated bigrams:\n",
            ". nectar honey\n",
            ". low sugar\n",
            "# 'Margarine and other vegetable fats':\n",
            "  . Most correlated unigrams:\n",
            ". delma\n",
            ". margarine\n",
            "  . Most correlated bigrams:\n",
            ". vegetable fat\n",
            ". margarine with\n",
            "# 'Mineral or spring waters':\n",
            "  . Most correlated unigrams:\n",
            ". mineral\n",
            ". water\n",
            "  . Most correlated bigrams:\n",
            ". spring water\n",
            ". mineral water\n",
            "# 'Offal and offal products':\n",
            "  . Most correlated unigrams:\n",
            ". pudding\n",
            ". liver\n",
            "  . Most correlated bigrams:\n",
            ". chicken liver\n",
            ". black pudding\n",
            "# 'Other animal fats':\n",
            "  . Most correlated unigrams:\n",
            ". crackling\n",
            ". lard\n",
            "  . Most correlated bigrams:\n",
            ". goose lard\n",
            ". lard with\n",
            "# 'Other bakery products':\n",
            "  . Most correlated unigrams:\n",
            ". biscuits\n",
            ". cookies\n",
            "  . Most correlated bigrams:\n",
            ". rice wafers\n",
            ". cookies with\n",
            "# 'Other cereal products':\n",
            "  . Most correlated unigrams:\n",
            ". muffins\n",
            ". tapioca\n",
            "  . Most correlated bigrams:\n",
            ". delecta large\n",
            ". powder cake\n",
            "# 'Other dairy products':\n",
            "  . Most correlated unigrams:\n",
            ". buttermilk\n",
            ". kefir\n",
            "  . Most correlated bigrams:\n",
            ". cream 12\n",
            ". cream 18\n",
            "# 'Other edible oils':\n",
            "  . Most correlated unigrams:\n",
            ". oil\n",
            ". rapeseed\n",
            "  . Most correlated bigrams:\n",
            ". seed oil\n",
            ". rapeseed oil\n",
            "# 'Other food items not elsewhere classified':\n",
            "  . Most correlated unigrams:\n",
            ". oetker\n",
            ". winiary\n",
            "  . Most correlated bigrams:\n",
            ". baking powder\n",
            ". dr oetker\n",
            "# 'Other meat':\n",
            "  . Most correlated unigrams:\n",
            ". saddle\n",
            ". deer\n",
            "  . Most correlated bigrams:\n",
            ". fresh rabbit\n",
            ". deer boneless\n",
            "# 'Other meat preparations':\n",
            "  . Most correlated unigrams:\n",
            ". profi\n",
            ". pate\n",
            "  . Most correlated bigrams:\n",
            ". chicken pate\n",
            ". pate with\n",
            "# 'Other preparations of fish and seafood':\n",
            "  . Most correlated unigrams:\n",
            ". fillets\n",
            ". herring\n",
            "  . Most correlated bigrams:\n",
            ". herring fillets\n",
            ". fillets in\n",
            "# 'Other tuber vegetables and preparations of tuber vegetables':\n",
            "  . Most correlated unigrams:\n",
            ". artichoke\n",
            ". jerusalem\n",
            "  . Most correlated bigrams:\n",
            ". sweet potato\n",
            ". sweet potatoes\n",
            "# 'Pasta and pasta products':\n",
            "  . Most correlated unigrams:\n",
            ". egg\n",
            ". pasta\n",
            "  . Most correlated bigrams:\n",
            ". egg free\n",
            ". free pasta\n",
            "# 'Pizza and other flour semi-finished products':\n",
            "  . Most correlated unigrams:\n",
            ". guseppe\n",
            ". pizza\n",
            "  . Most correlated bigrams:\n",
            ". guseppe pizza\n",
            ". pizza with\n",
            "# 'Pork meat':\n",
            "  . Most correlated unigrams:\n",
            ". boneless\n",
            ". pork\n",
            "  . Most correlated bigrams:\n",
            ". pork tenderloin\n",
            ". boneless pork\n",
            "# 'Poultry meat':\n",
            "  . Most correlated unigrams:\n",
            ". thigh\n",
            ". drumstick\n",
            "  . Most correlated bigrams:\n",
            ". chicken drumstick\n",
            ". janex chicken\n",
            "# 'Powdered and powdered milk':\n",
            "  . Most correlated unigrams:\n",
            ". nan\n",
            ". bebiko\n",
            "  . Most correlated bigrams:\n",
            ". bebilon milk\n",
            ". modified milk\n",
            "# 'Prepared dishes':\n",
            "  . Most correlated unigrams:\n",
            ". soup\n",
            ". dumplings\n",
            "  . Most correlated bigrams:\n",
            ". dumplings with\n",
            ". soup 450\n",
            "# 'Refreshing drinks':\n",
            "  . Most correlated unigrams:\n",
            ". drink\n",
            ". carbonated\n",
            "  . Most correlated bigrams:\n",
            ". energy drink\n",
            ". carbonated drink\n",
            "# 'Rice':\n",
            "  . Most correlated unigrams:\n",
            ". long\n",
            ". rice\n",
            "  . Most correlated bigrams:\n",
            ". white rice\n",
            ". long grain\n",
            "# 'Salt, spices and culinary herbs':\n",
            "  . Most correlated unigrams:\n",
            ". kotanyi\n",
            ". spice\n",
            "  . Most correlated bigrams:\n",
            ". kotanyi spice\n",
            ". spice for\n",
            "# 'Sauces, spices':\n",
            "  . Most correlated unigrams:\n",
            ". ketchup\n",
            ". sauce\n",
            "  . Most correlated bigrams:\n",
            ". sauce with\n",
            ". spicy ketchup\n",
            "# 'Sheep and goat meat':\n",
            "  . Most correlated unigrams:\n",
            ". lamb\n",
            ". merino\n",
            "  . Most correlated bigrams:\n",
            ". boneless lamb\n",
            ". merino breed\n",
            "# 'Sugar':\n",
            "  . Most correlated unigrams:\n",
            ". diamant\n",
            ". sugar\n",
            "  . Most correlated bigrams:\n",
            ". vanilla sugar\n",
            ". cane sugar\n",
            "# 'Tea':\n",
            "  . Most correlated unigrams:\n",
            ". bags\n",
            ". tea\n",
            "  . Most correlated bigrams:\n",
            ". black tea\n",
            ". 20 bags\n",
            "# 'Whole milk':\n",
            "  . Most correlated unigrams:\n",
            ". spotted\n",
            ". uht\n",
            "  . Most correlated bigrams:\n",
            ". polish milk\n",
            ". uht milk\n",
            "# 'Yoghurt':\n",
            "  . Most correlated unigrams:\n",
            ". danone\n",
            ". yogurt\n",
            "  . Most correlated bigrams:\n",
            ". natural yogurt\n",
            ". yogurt with\n",
            "# 'eggs':\n",
            "  . Most correlated unigrams:\n",
            ". range\n",
            ". eggs\n",
            "  . Most correlated bigrams:\n",
            ". free range\n",
            ". eggs from\n",
            "# 'meats':\n",
            "  . Most correlated unigrams:\n",
            ". ham\n",
            ". sausage\n",
            "  . Most correlated bigrams:\n",
            ". tarczyński kabanos\n",
            ". polish sausages\n",
            "# 'olive oil':\n",
            "  . Most correlated unigrams:\n",
            ". virgin\n",
            ". olive\n",
            "  . Most correlated bigrams:\n",
            ". virgin olive\n",
            ". olive oil\n",
            "# 'potatoes':\n",
            "  . Most correlated unigrams:\n",
            ". aviko\n",
            ". fries\n",
            "  . Most correlated bigrams:\n",
            ". potatoes for\n",
            ". french fries\n"
          ],
          "name": "stdout"
        }
      ]
    },
    {
      "cell_type": "markdown",
      "metadata": {
        "id": "t4IrEAkChQN3",
        "colab_type": "text"
      },
      "source": [
        "\n",
        "## Reference\n",
        "\n",
        "\n",
        "[ref_INEGI] INEGI pilot study report \n",
        "\n",
        "[ref_ECOICOP_Eurostat] https://ec.europa.eu/eurostat/ramon/nomenclatures/index.cfm?TargetUrl=DSP_GEN_DESC_VIEW_NOHDR&StrNom=COICOP_5&StrLanguageCode=EN\n",
        "\n",
        "[ref_ECOICOP_dataset] Statistics Poland pilot study report\n",
        "\n",
        "[ref_ECOICOP_dataset] https://github.com/UNECE/ML_dataset\n",
        "\n",
        "Articles pertaining to text classification in python: \n",
        "\n",
        "* https://www.kdnuggets.com/2019/04/text-preprocessing-nlp-machine-learning.html\n",
        "\n",
        "* https://kavita-ganesan.com/tfidftransformer-tfidfvectorizer-usage-differences/#.XpVeKEBuLVI\n",
        "\n",
        "* https://machinelearningmastery.com/gentle-introduction-bag-words-model/\n",
        "\n",
        "Source code for creating tfidf:\n",
        "\n",
        "* https://towardsdatascience.com/multi-class-text-classification-with-scikit-learn-12f1e60e0a9f"
      ]
    }
  ]
}